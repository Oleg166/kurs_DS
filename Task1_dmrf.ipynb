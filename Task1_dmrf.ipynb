{
 "cells": [
  {
   "cell_type": "markdown",
   "metadata": {
    "pycharm": {
     "name": "#%% md\n"
    }
   },
   "source": [
    "[![Open In Colab](https://colab.research.google.com/assets/colab-badge.svg)](https://colab.research.google.com/github/pytosha/new-python-repo/blob/main/HomeTask/Task1_dmrf.ipynb)"
   ]
  },
  {
   "cell_type": "markdown",
   "metadata": {
    "pycharm": {
     "name": "#%% md\n"
    }
   },
   "source": [
    "# Задание\n",
    "* Собрать информацию о всех строящихся объектах на сайте \"наш.дом.рф\"\n",
    "* Cохранить ее в pandas dataframe\n",
    "* Cохранить pandas dataframe в excel\n",
    "* Cохранить pandas dataframe в pickle\n",
    "* Cохранить pandas dataframe в БД\n",
    "\n",
    "# Задание посложнее (опциональное, если очень хочется)\n",
    "* Написать скрипт, который скачивает фотографии всех строящихся объектов с сайта \"наш.дом.рф\"\n"
   ]
  },
  {
   "cell_type": "code",
   "execution_count": 1,
   "metadata": {
    "ExecuteTime": {
     "end_time": "2023-12-07T13:23:41.474486Z",
     "start_time": "2023-12-07T13:23:41.465949Z"
    },
    "pycharm": {
     "name": "#%%\n"
    }
   },
   "outputs": [],
   "source": [
    "# pip install selenium\n",
    "import requests\n",
    "from tqdm.auto import tqdm\n",
    "import time\n",
    "import pandas as pd\n",
    "from collections import Counter\n",
    "from selenium import webdriver\n",
    "from selenium.webdriver.common.by import By"
   ]
  },
  {
   "cell_type": "markdown",
   "metadata": {
    "pycharm": {
     "name": "#%% md\n"
    }
   },
   "source": [
    "## Шаг 1й - Получение списка объектов"
   ]
  },
  {
   "cell_type": "code",
   "execution_count": 2,
   "metadata": {
    "ExecuteTime": {
     "end_time": "2023-12-07T13:23:43.646382Z",
     "start_time": "2023-12-07T13:23:42.721748Z"
    },
    "pycharm": {
     "name": "#%%\n"
    }
   },
   "outputs": [],
   "source": [
    "# Для скачивания данных\n",
    "\n",
    "# offset_ = 1 # размер шага\n",
    "# limit_ = 11693 # количество объектов в одном ответе api\n",
    "# url = f'https://xn--80az8a.xn--d1aqf.xn--p1ai/%D1%81%D0%B5%D1%80%D0%B2%D0%B8%D1%81%D1%8B/api/kn/object?offset={offset_}&limit={limit_}&sortField=devId.devShortCleanNm&sortType=asc&objStatus=0'\n",
    "# res = requests.get(url)\n",
    "# objects_data = res.json()\n",
    "# objects_data.get('data').get('list')[0]\n",
    "\n",
    "# Таким образом получить данные у меня не получилось, либо соединение прерывалось, либо бесконечно выполнялось (несколько часов)"
   ]
  },
  {
   "cell_type": "code",
   "execution_count": 3,
   "metadata": {
    "pycharm": {
     "name": "#%%\n"
    }
   },
   "outputs": [],
   "source": [
    "# objects_list = objects_data.get('data').get('list')\n",
    "# objids = [x.get('objId') for x in objects_list]\n",
    "# objids[:10]\n",
    "# objids"
   ]
  },
  {
   "cell_type": "code",
   "execution_count": 4,
   "metadata": {},
   "outputs": [
    {
     "data": {
      "application/vnd.jupyter.widget-view+json": {
       "model_id": "86c95c5783d8404bad59dc5e76b95059",
       "version_major": 2,
       "version_minor": 0
      },
      "text/plain": [
       "  0%|          | 0/118 [00:00<?, ?it/s]"
      ]
     },
     "metadata": {},
     "output_type": "display_data"
    },
    {
     "name": "stdout",
     "output_type": "stream",
     "text": [
      "11710\n",
      "CPU times: total: 37.9 s\n",
      "Wall time: 22min 31s\n"
     ]
    }
   ],
   "source": [
    "%%time\n",
    "# ID всех объектов я собрал с помощью библиотеки Selenium (отрабатывает с учетом заданных задержек менее, чем за 20 минут)\n",
    "all_ids = []\n",
    "driver = webdriver.Chrome()\n",
    "for k in tqdm(range(0, 118)):\n",
    "    url = f\"https://наш.дом.рф/сервисы/каталог-новостроек/список-объектов/список?page={k}&limit=100&objStatus=0\"\n",
    "    driver.get(url)\n",
    "    driver.implicitly_wait(5)\n",
    "    ids = driver.find_elements(By.CSS_SELECTOR, '.styles__Ellipsis-sc-1fw79ul-0.jYMONF.styles__Value-sc-1ajig0k-5.styles__IdValue-sc-1ajig0k-17.lodXzE.jTBlso');\n",
    "    for i in ids:\n",
    "        a = i.text\n",
    "        b = a.replace('ID дома: ', \"\")\n",
    "        if b != '':\n",
    "            all_ids.append(b)\n",
    "\n",
    "print(len(all_ids))\n",
    "driver.close()"
   ]
  },
  {
   "cell_type": "markdown",
   "metadata": {
    "pycharm": {
     "name": "#%% md\n"
    }
   },
   "source": [
    "# Данные по определенному объекту"
   ]
  },
  {
   "cell_type": "code",
   "execution_count": 5,
   "metadata": {
    "pycharm": {
     "name": "#%%\n"
    }
   },
   "outputs": [],
   "source": [
    "# Для скачивания данных по определенному объекту, нужно добавить его id в конец строки запроса\n",
    "url = f'https://xn--80az8a.xn--d1aqf.xn--p1ai/%D1%81%D0%B5%D1%80%D0%B2%D0%B8%D1%81%D1%8B/api/object/13397'"
   ]
  },
  {
   "cell_type": "code",
   "execution_count": 6,
   "metadata": {},
   "outputs": [],
   "source": [
    "# Уберу дубли из полученного списка ID всех объектов\n",
    "my_set = set(all_ids)\n",
    "all_ids1 = list(my_set)"
   ]
  },
  {
   "cell_type": "code",
   "execution_count": 7,
   "metadata": {},
   "outputs": [
    {
     "data": {
      "text/plain": [
       "11662"
      ]
     },
     "execution_count": 7,
     "metadata": {},
     "output_type": "execute_result"
    }
   ],
   "source": [
    "len(all_ids1)"
   ]
  },
  {
   "cell_type": "code",
   "execution_count": 8,
   "metadata": {},
   "outputs": [
    {
     "data": {
      "application/vnd.jupyter.widget-view+json": {
       "model_id": "d4b8421a75674f8096386c8745483ce9",
       "version_major": 2,
       "version_minor": 0
      },
      "text/plain": [
       "  0%|          | 0/11662 [00:00<?, ?it/s]"
      ]
     },
     "metadata": {},
     "output_type": "display_data"
    },
    {
     "name": "stdout",
     "output_type": "stream",
     "text": [
      "CPU times: total: 7min 40s\n",
      "Wall time: 1h 42s\n"
     ]
    }
   ],
   "source": [
    "%%time\n",
    "# соберу данные по каждому объекту\n",
    "all_objects = []\n",
    "for j in tqdm(range(len(all_ids1))):\n",
    "    url = f'https://xn--80az8a.xn--d1aqf.xn--p1ai/%D1%81%D0%B5%D1%80%D0%B2%D0%B8%D1%81%D1%8B/api/object/{all_ids1[j]}'\n",
    "    res = requests.get(url)\n",
    "    object = res.json()\n",
    "    # dict_one = {'id': vacancy['id'], 'published_at': vacancy['published_at'], 'name': vacancy['name'], 'description': vacancy['description'], 'key_skills': vacancy['key_skills']}\n",
    "    all_objects.append(object['data'])\n",
    "    if j !=0 and j % 10 == 0:\n",
    "        time.sleep(1)"
   ]
  },
  {
   "cell_type": "code",
   "execution_count": 9,
   "metadata": {},
   "outputs": [],
   "source": [
    "# добавлю данные в датафрейм\n",
    "df=pd.DataFrame.from_dict(all_objects, orient='columns')"
   ]
  },
  {
   "cell_type": "code",
   "execution_count": 10,
   "metadata": {},
   "outputs": [
    {
     "data": {
      "text/plain": [
       "(11662, 68)"
      ]
     },
     "execution_count": 10,
     "metadata": {},
     "output_type": "execute_result"
    }
   ],
   "source": [
    "df.shape"
   ]
  },
  {
   "cell_type": "code",
   "execution_count": 11,
   "metadata": {},
   "outputs": [
    {
     "data": {
      "text/plain": [
       "id                             0\n",
       "hobjId                         0\n",
       "pdId                           0\n",
       "developer                      0\n",
       "region                         0\n",
       "                           ...  \n",
       "metro                       9944\n",
       "transportDistIndex          9511\n",
       "transportDistIndexValue     9511\n",
       "greenAreaIndexValue        10218\n",
       "complexShortNm             10919\n",
       "Length: 68, dtype: int64"
      ]
     },
     "execution_count": 11,
     "metadata": {},
     "output_type": "execute_result"
    }
   ],
   "source": [
    "df.isna().sum()"
   ]
  },
  {
   "cell_type": "code",
   "execution_count": 12,
   "metadata": {},
   "outputs": [],
   "source": [
    "# Cохранение pandas dataframe в excel\n",
    "# pip install openpyxl\n",
    "df.to_excel (r'C:\\Users\\PC\\Desktop\\new_buildings.xlsx')"
   ]
  },
  {
   "cell_type": "code",
   "execution_count": 13,
   "metadata": {},
   "outputs": [],
   "source": [
    "# Cохранение pandas dataframe в pickle"
   ]
  },
  {
   "cell_type": "code",
   "execution_count": 14,
   "metadata": {},
   "outputs": [],
   "source": [
    "df.to_pickle(r\"C:\\Users\\PC\\Desktop\\new_buildings.pkl\") "
   ]
  },
  {
   "cell_type": "code",
   "execution_count": 15,
   "metadata": {},
   "outputs": [],
   "source": [
    "# Cохранение pandas dataframe в sql "
   ]
  },
  {
   "cell_type": "code",
   "execution_count": 16,
   "metadata": {},
   "outputs": [],
   "source": [
    "# Чтобы сохранить датафрейм в SQL, изменим тип данных во всех столбцах на текстовый"
   ]
  },
  {
   "cell_type": "code",
   "execution_count": 17,
   "metadata": {},
   "outputs": [],
   "source": [
    "df1 = df.astype(str)"
   ]
  },
  {
   "cell_type": "code",
   "execution_count": 18,
   "metadata": {},
   "outputs": [
    {
     "data": {
      "text/plain": [
       "id                         object\n",
       "hobjId                     object\n",
       "pdId                       object\n",
       "developer                  object\n",
       "region                     object\n",
       "                            ...  \n",
       "metro                      object\n",
       "transportDistIndex         object\n",
       "transportDistIndexValue    object\n",
       "greenAreaIndexValue        object\n",
       "complexShortNm             object\n",
       "Length: 68, dtype: object"
      ]
     },
     "execution_count": 18,
     "metadata": {},
     "output_type": "execute_result"
    }
   ],
   "source": [
    "df1.dtypes"
   ]
  },
  {
   "cell_type": "code",
   "execution_count": 19,
   "metadata": {},
   "outputs": [],
   "source": [
    "from sqlalchemy import create_engine"
   ]
  },
  {
   "cell_type": "code",
   "execution_count": 20,
   "metadata": {},
   "outputs": [],
   "source": [
    "engine = create_engine(r'sqlite:///buildings.db', echo=True)\n",
    "sqlite_connection = engine.connect()"
   ]
  },
  {
   "cell_type": "code",
   "execution_count": 21,
   "metadata": {},
   "outputs": [
    {
     "name": "stdout",
     "output_type": "stream",
     "text": [
      "2023-12-18 13:00:47,439 INFO sqlalchemy.engine.Engine PRAGMA main.table_info(\"new_buildings\")\n",
      "2023-12-18 13:00:47,440 INFO sqlalchemy.engine.Engine [raw sql] ()\n",
      "2023-12-18 13:00:47,443 INFO sqlalchemy.engine.Engine PRAGMA temp.table_info(\"new_buildings\")\n",
      "2023-12-18 13:00:47,444 INFO sqlalchemy.engine.Engine [raw sql] ()\n",
      "2023-12-18 13:00:47,460 INFO sqlalchemy.engine.Engine \n",
      "CREATE TABLE new_buildings (\n",
      "\t\"index\" BIGINT, \n",
      "\tid TEXT, \n",
      "\t\"hobjId\" TEXT, \n",
      "\t\"pdId\" TEXT, \n",
      "\tdeveloper TEXT, \n",
      "\tregion TEXT, \n",
      "\taddress TEXT, \n",
      "\t\"nameObj\" TEXT, \n",
      "\t\"floorMin\" TEXT, \n",
      "\t\"floorMax\" TEXT, \n",
      "\t\"objElemLivingCnt\" TEXT, \n",
      "\t\"objReady100PercDt\" TEXT, \n",
      "\t\"wallMaterialShortDesc\" TEXT, \n",
      "\t\"objLkFinishTypeDesc\" TEXT, \n",
      "\t\"objLkFreePlanDesc\" TEXT, \n",
      "\t\"objElemParkingCnt\" TEXT, \n",
      "\t\"objSquareLiving\" TEXT, \n",
      "\t\"rpdNum\" TEXT, \n",
      "\t\"rpdPdfLink\" TEXT, \n",
      "\t\"rpdIssueDttm\" TEXT, \n",
      "\t\"objLkLatitude\" TEXT, \n",
      "\t\"objLkLongitude\" TEXT, \n",
      "\t\"objCompensFundFlg\" TEXT, \n",
      "\t\"objProblemFlg\" TEXT, \n",
      "\t\"objLkClassDesc\" TEXT, \n",
      "\t\"loadDttm\" TEXT, \n",
      "\t\"photoRenderDTO\" TEXT, \n",
      "\t\"objGuarantyEscrowFlg\" TEXT, \n",
      "\t\"objectType\" TEXT, \n",
      "\t\"miniUrl\" TEXT, \n",
      "\t\"residentialBuildings\" TEXT, \n",
      "\t\"newBuildingId\" TEXT, \n",
      "\t\"objFloorCnt\" TEXT, \n",
      "\t\"objFlatCnt\" TEXT, \n",
      "\t\"objFlatSq\" TEXT, \n",
      "\t\"objNonlivElemCnt\" TEXT, \n",
      "\t\"objStatus\" TEXT, \n",
      "\t\"isAvailableWantLiveHere\" TEXT, \n",
      "\t\"objTransferPlanDt\" TEXT, \n",
      "\t\"objInfrstrBicycleLaneFlg\" TEXT, \n",
      "\t\"objInfrstrPlaygrndCnt\" TEXT, \n",
      "\t\"objInfrstrSportGroundCnt\" TEXT, \n",
      "\t\"objInfrstrTrashAreaCnt\" TEXT, \n",
      "\t\"objInfrstrObjPrkngCnt\" TEXT, \n",
      "\t\"objInfrstrNotObjPrkngCnt\" TEXT, \n",
      "\t\"objInfrstrRampFlg\" TEXT, \n",
      "\t\"objInfrstrCurbLoweringFlg\" TEXT, \n",
      "\t\"objElevatorWheelchairCnt\" TEXT, \n",
      "\t\"objElevatorPassengerCnt\" TEXT, \n",
      "\t\"objElevatorCargoCnt\" TEXT, \n",
      "\t\"objElevatorCargoPassengerCnt\" TEXT, \n",
      "\t\"generalContractorNm\" TEXT, \n",
      "\t\"nonlivFirstFloor\" TEXT, \n",
      "\t\"objectTransportInfo\" TEXT, \n",
      "\tconclusion TEXT, \n",
      "\t\"objLkSaleDepEmail\" TEXT, \n",
      "\t\"objGreenHouseFlg\" TEXT, \n",
      "\t\"objEnergyEffShortDesc\" TEXT, \n",
      "\t\"infrastructureIndexValue\" TEXT, \n",
      "\tquartography TEXT, \n",
      "\t\"objLivCeilingHeight\" TEXT, \n",
      "\t\"soldOutPerc\" TEXT, \n",
      "\t\"objPriceAvg\" TEXT, \n",
      "\t\"airQualityIndexValue\" TEXT, \n",
      "\tmetro TEXT, \n",
      "\t\"transportDistIndex\" TEXT, \n",
      "\t\"transportDistIndexValue\" TEXT, \n",
      "\t\"greenAreaIndexValue\" TEXT, \n",
      "\t\"complexShortNm\" TEXT\n",
      ")\n",
      "\n",
      "\n",
      "2023-12-18 13:00:47,463 INFO sqlalchemy.engine.Engine [no key 0.00234s] ()\n",
      "2023-12-18 13:00:47,471 INFO sqlalchemy.engine.Engine COMMIT\n",
      "2023-12-18 13:00:47,474 INFO sqlalchemy.engine.Engine CREATE INDEX ix_new_buildings_index ON new_buildings (\"index\")\n",
      "2023-12-18 13:00:47,477 INFO sqlalchemy.engine.Engine [no key 0.00333s] ()\n",
      "2023-12-18 13:00:47,488 INFO sqlalchemy.engine.Engine COMMIT\n",
      "2023-12-18 13:00:49,221 INFO sqlalchemy.engine.Engine INSERT INTO new_buildings (\"index\", id, \"hobjId\", \"pdId\", developer, region, address, \"nameObj\", \"floorMin\", \"floorMax\", \"objElemLivingCnt\", \"objReady100PercDt\", \"wallMaterialShortDesc\", \"objLkFinishTypeDesc\", \"objLkFreePlanDesc\", \"objElemParkingCnt\", \"objSquareLiving\", \"rpdNum\", \"rpdPdfLink\", \"rpdIssueDttm\", \"objLkLatitude\", \"objLkLongitude\", \"objCompensFundFlg\", \"objProblemFlg\", \"objLkClassDesc\", \"loadDttm\", \"photoRenderDTO\", \"objGuarantyEscrowFlg\", \"objectType\", \"miniUrl\", \"residentialBuildings\", \"newBuildingId\", \"objFloorCnt\", \"objFlatCnt\", \"objFlatSq\", \"objNonlivElemCnt\", \"objStatus\", \"isAvailableWantLiveHere\", \"objTransferPlanDt\", \"objInfrstrBicycleLaneFlg\", \"objInfrstrPlaygrndCnt\", \"objInfrstrSportGroundCnt\", \"objInfrstrTrashAreaCnt\", \"objInfrstrObjPrkngCnt\", \"objInfrstrNotObjPrkngCnt\", \"objInfrstrRampFlg\", \"objInfrstrCurbLoweringFlg\", \"objElevatorWheelchairCnt\", \"objElevatorPassengerCnt\", \"objElevatorCargoCnt\", \"objElevatorCargoPassengerCnt\", \"generalContractorNm\", \"nonlivFirstFloor\", \"objectTransportInfo\", conclusion, \"objLkSaleDepEmail\", \"objGreenHouseFlg\", \"objEnergyEffShortDesc\", \"infrastructureIndexValue\", quartography, \"objLivCeilingHeight\", \"soldOutPerc\", \"objPriceAvg\", \"airQualityIndexValue\", metro, \"transportDistIndex\", \"transportDistIndexValue\", \"greenAreaIndexValue\", \"complexShortNm\") VALUES (?, ?, ?, ?, ?, ?, ?, ?, ?, ?, ?, ?, ?, ?, ?, ?, ?, ?, ?, ?, ?, ?, ?, ?, ?, ?, ?, ?, ?, ?, ?, ?, ?, ?, ?, ?, ?, ?, ?, ?, ?, ?, ?, ?, ?, ?, ?, ?, ?, ?, ?, ?, ?, ?, ?, ?, ?, ?, ?, ?, ?, ?, ?, ?, ?, ?, ?, ?, ?)\n",
      "2023-12-18 13:00:49,222 INFO sqlalchemy.engine.Engine [generated in 1.23072s] ((0, '46385', '127014', '492357', \"{'devId': 13024, 'devShortCleanNm': 'СЗ ФЕОДОСИЙСКИЙ', 'devShortNm': 'СЗ ФЕОДОСИЙСКИЙ', 'devFullCleanNm': 'СПЕЦИАЛИЗИРОВАННЫЙ ЗАСТРОЙЩИК ФЕОДОСИЙСКИЙ ... (598 characters truncated) ... : 4, 'fullForm': 'Общество с ограниченной ответственностью', 'shortForm': 'ООО'}, 'companyGroupId': 6154, 'objGuarantyEscrowFlg': 1, 'govFundFlg': 0}\", '91', 'г Феодосия, ш Симферопольское, д. 48', 'Жилой комплекс Утёсов', '1', '1', '0', '2024-12-31', 'Другое', 'Без отделки', 'Нет', '70', '0.0', '91-000414', 'https://xn--80az8a.xn--d1aqf.xn--p1ai/api/ext/file/70726F6A6465636C2E646F63732E697A643AD1100AE0C99B477085EC4045758B4BEB', '08-12-2023 11:18', '45.049', '35.3568', '0', '0', 'Комфорт', '18-12-2023 01:35', \"[{'objId': 46385, 'pdId': 492357, 'rpdId': 802086, 'devId': 13024, 'ordNum': 1, 'objRenderPhotoSize': 6363512, 'objRenderPhotoUrl': 'https://xn--80az ... (638 characters truncated) ... ren_ytesov_01_01_05_vecher_post_01.jpg', 'objReadyDesc': 'Строится', 'objBuildTypeShortDesc': 'Нежилое', 'knFlg': 0, 'loadDttm': '18-12-2023 01:14'}]\", '1', 'normal', 'https://xn--80az8a.xn--d1aqf.xn--p1ai/api/ext/file/70726F6A6465636C2E646F63732E697A643A787DDE02947B4B748C71F3643F8067B5', '0', '127014', '1', '0', '0.0', '0', '0', 'True', '30-06-2025 12:00', '0', '0.0', '0.0', '0.0', '0.0', '0.0', '0', '0', '0.0', '0.0', '0.0', '0', 'ООО Стройподряд (ИНН: 9108006124)', '1.0', '[]', 'True', 'info@interstroi.com.ru', '0', 'Не нормируется', '4', 'nan', 'nan', 'nan', 'nan', 'nan', 'nan', 'nan', 'nan', 'nan', 'nan'), (1, '42246', '122817', '494499', \"{'devId': 527, 'devShortCleanNm': 'Е-ИНВЕСТ', 'devShortNm': 'Е-ИНВЕСТ', 'devFullCleanNm': 'Е-ИНВЕСТ', 'problObjCnt': 0, 'buildObjCnt': 3, 'comissObjC ... (862 characters truncated) ... cons_doc_LAW_39331/97e3783dff35e269cd1c6d35cbabfa4abee6fd37/'}, 'orgBankruptMsgDttm': '16-10-2019 11:35', 'objGuarantyEscrowFlg': 1, 'govFundFlg': 0}\", '50', 'с Федоскино, д. 4', 'ЖК \"Федоскинская слобода\"', '3', '3', '75', '2024-12-31', 'Другое', 'Без отделки', 'Есть', '0', '3090.47', '50-003231', 'https://xn--80az8a.xn--d1aqf.xn--p1ai/api/ext/file/70726F6A6465636C2E646F63732E697A643AA48C7C596918448CAA430437296F7A4A', '01-11-2023 14:27', '56.0483', '37.5856', '0', '0', 'Типовой', '18-12-2023 01:35', \"[{'objId': 42246, 'pdId': 494499, 'rpdId': 785509, 'devId': 527, 'ordNum': 1, 'objRenderPhotoSize': 652135, 'objRenderPhotoUrl': 'https://xn--80az8a. ... (151 characters truncated) ... RenderPhotoNm': 'изображение_проекта.jpg', 'objReadyDesc': 'Строится', 'objBuildTypeShortDesc': 'Жилое', 'knFlg': 1, 'loadDttm': '18-12-2023 01:14'}]\", '1', 'normal', 'https://xn--80az8a.xn--d1aqf.xn--p1ai/api/ext/file/653d26d9-a292-4a80-99b1-3e7d0f839b83', '1', '122817', '3', '75', '3090.47', '0', '0', 'True', '31-12-2024 12:00', '1', '2.0', '1.0', '4.0', '0.0', '0.0', '1', '1', '0.0', '0.0', '0.0', '0', 'nan', '0.0', '[]', 'False', 'einvest2020@mail.ru', '0', 'C', '2', \"{'objLivElem1KCnt': 68, 'objLivElem2KCnt': 7, 'objLivElem3KCnt': 0, 'objLivElem4KCnt': 0, 'objLivElemCnt': 75, 'objLivElemEntrCnt': 4, 'objLivElemEntrFloorAvg': 7}\", '2,7', '0.0977747721220397', '67197.0', '6.0', 'nan', 'nan', 'nan', 'nan', 'nan'), (2, '50130', '130778', '658840', \"{'devId': 15192, 'devShortCleanNm': 'СЗ ТАЛАН-РЕГИОН-24', 'devShortNm': 'СЗ ТАЛАН-РЕГИОН-24', 'devFullCleanNm': 'СПЕЦИАЛИЗИРОВАННЫЙ ЗАСТРОЙЩИК ТАЛАН- ... (608 characters truncated) ... : 4, 'fullForm': 'Общество с ограниченной ответственностью', 'shortForm': 'ООО'}, 'companyGroupId': 6092, 'objGuarantyEscrowFlg': 1, 'govFundFlg': 0}\", '27', 'г Хабаровск, район Краснофлотский р-н, ул Воронежская', 'nan', '17', '17', '152', '2026-03-31', 'Монолит-кирпич', 'Без отделки', 'Нет', '0', '6941.7', '27-000396', 'https://xn--80az8a.xn--d1aqf.xn--p1ai/api/ext/file/70726F6A6465636C2E646F63732E697A643A5D6A1CD2F3A04619ADBDC49E01F4C22D', '05-12-2023 07:13', '48.5456', '135.0641', '0', '0', 'Типовой', '18-12-2023 01:35', \"[{'objId': 50130, 'pdId': 658840, 'rpdId': 797915, 'devId': 15192, 'ordNum': 1, 'objRenderPhotoSize': 5755275, 'objRenderPhotoUrl': 'https://xn--80az ... (193 characters truncated) ... Nm': 'image_2023_01_20T06_47_45_218Z.png', 'objReadyDesc': 'Строится', 'objBuildTypeShortDesc': 'Жилое', 'knFlg': 1, 'loadDttm': '18-12-2023 01:14'}]\", '1', 'normal', 'https://xn--80az8a.xn--d1aqf.xn--p1ai/api/ext/file/70726F6A6465636C2E646F63732E697A643A3F04EEDD547D43E89D18F64AB14CE369', '1', '130778', '17', '152', '6941.7', '35', '0', 'True', '30-09-2026 12:00', '1', '1.0', '1.0', '1.0', '34.0', '0.0', '0', '1', '0.0', '2.0', '0.0', '0', 'ООО СТРОЙКОР (ИНН: 2723197401)', '0.0', '[]', 'True', 'info_27@talan.group', '0', 'B', '5', \"{'objLivElem1KCnt': 77, 'objLivElem2KCnt': 60, 'objLivElem3KCnt': 15, 'objLivElem4KCnt': 0, 'objLivElemCnt': 152, 'objLivElemEntrCnt': 1, 'objLivElemEntrFloorAvg': 10}\", '2,75 - 3,47', '0.0624342740250947', '152574.0', 'nan', 'nan', 'nan', 'nan', 'nan', 'nan'), (3, '54675', '135362', '772144', \"{'devId': 2198, 'devShortCleanNm': 'СЗ СУ СТРОЙГРАД-1', 'devShortNm': 'СЗ СУ СТРОЙГРАД-1', 'devFullCleanNm': 'СПЕЦИАЛИЗИРОВАННЫЙ ЗАСТРОЙЩИК СТРОИТЕЛЬ ... (653 characters truncated) ... : 4, 'fullForm': 'Общество с ограниченной ответственностью', 'shortForm': 'ООО'}, 'companyGroupId': 6388, 'objGuarantyEscrowFlg': 1, 'govFundFlg': 0}\", '26', 'город Михайловск, пер Князевский, д. 91, вл. дом', 'nan', '8', '8', '384', '2026-06-30', 'Кирпич', 'По желанию заказчика', 'Нет', '0', '11728.0', '26-000887', 'https://xn--80az8a.xn--d1aqf.xn--p1ai/api/ext/file/70726F6A6465636C2E646F63732E697A643AC2E0A81A84BA4E969688571E334D99FB', '10-10-2023 13:43', '45.1332', '42.0495', '0', '0', 'Комфорт', '18-12-2023 01:35', \"[{'objId': 54675, 'pdId': 772144, 'rpdId': 777781, 'devId': 2198, 'ordNum': 1, 'objRenderPhotoSize': 300719, 'objRenderPhotoUrl': 'https://xn--80az8a ... (1148 characters truncated) ... rPhotoNm': 'image-29-09-23-14-52-32.jpeg', 'objReadyDesc': 'Строится', 'objBuildTypeShortDesc': 'Жилое', 'knFlg': 1, 'loadDttm': '18-12-2023 01:14'}]\", '1', 'normal', 'https://xn--80az8a.xn--d1aqf.xn--p1ai/api/ext/file/70726F6A6465636C2E646F63732E697A643A87967F3C86CA41ED82F6DD9437F4427A', '1', '135362', '8', '384', '11728.0', '2', '0', 'True', '06-12-2026 12:00', '0', '1.0', '0.0', '2.0', '423.0', '0.0', '0', '1', '0.0', '4.0', '0.0', '4', 'ООО НОВЫЙ РОСТ (ИНН: 2636218278)', '0.0', '[]', 'False', 'info@gk-stroygrad.ru', '0', 'B', '6', \"{'objLivElem1KCnt': 384, 'objLivElem2KCnt': 0, 'objLivElem3KCnt': 0, 'objLivElem4KCnt': 0, 'objLivElemCnt': 384, 'objLivElemEntrCnt': 4, 'objLivElemEntrFloorAvg': 12}\", '2,7', 'nan', 'nan', 'nan', 'nan', 'nan', 'nan', 'nan', 'nan'), (4, '47890', '128519', '630549', \"{'devId': 13649, 'devShortCleanNm': 'СЗ ЭТАЛОН-ОМСК', 'devShortNm': 'СЗ ЭТАЛОН-ОМСК', 'devFullCleanNm': 'СПЕЦИАЛИЗИРОВАННЫЙ ЗАСТРОЙЩИК ЭТАЛОН-ОМСК',  ... (616 characters truncated) ... : 4, 'fullForm': 'Общество с ограниченной ответственностью', 'shortForm': 'ООО'}, 'companyGroupId': 5904, 'objGuarantyEscrowFlg': 1, 'govFundFlg': 0}\", '55', 'г Омск, ул Волгоградская', 'Жилой квартал \"Зеленая река\" корпус 1', '10', '13', '387', '2025-06-30', 'Монолит-кирпич', 'Без отделки', 'Нет', '0', '15868.4', '55-000142', 'https://xn--80az8a.xn--d1aqf.xn--p1ai/api/ext/file/70726F6A6465636C2E646F63732E697A643A29100B5C30834763B1E4B53B1A06F33E', '06-12-2023 14:49', '54.9875', '73.2408', '0', '0', 'Комфорт', '18-12-2023 01:35', \"[{'objId': 47890, 'pdId': 630549, 'rpdId': 799529, 'devId': 13649, 'ordNum': 1, 'objRenderPhotoSize': 2491508, 'objRenderPhotoUrl': 'https://xn--80az ... (1026 characters truncated) ... g': 0, 'objRenderPhotoNm': '1К_двор2.jpg', 'objReadyDesc': 'Строится', 'objBuildTypeShortDesc': 'Жилое', 'knFlg': 1, 'loadDttm': '18-12-2023 01:14'}]\", '1', 'normal', 'https://xn--80az8a.xn--d1aqf.xn--p1ai/api/ext/file/70726F6A6465636C2E646F63732E697A643A90633C87DB1242D88A2B94C1B1FCF873', '1', '128519', '13', '387', '15868.4', '11', '0', 'True', '28-11-2025 12:00', '0', '1.0', '1.0', '1.0', '0.0', '57.0', '0', '1', '0.0', '9.0', '6.0', '12', 'АО СУ-267 (ИНН: 7811001632)', '0.0', '[]', 'False', 'omsk-office@etalongroup.com', '0', 'B', '8', \"{'objLivElem1KCnt': 289, 'objLivElem2KCnt': 81, 'objLivElem3KCnt': 17, 'objLivElem4KCnt': 0, 'objLivElemCnt': 387, 'objLivElemEntrCnt': 6, 'objLivElemEntrFloorAvg': 8}\", '2,73', '0.42218497138968', '124345.0', 'nan', 'nan', 'nan', 'nan', 'nan', 'nan'), (5, '53014', '133725', '702339', \"{'devId': 9936, 'devShortCleanNm': 'СЗ МОНТАЖСТРОЙ', 'devShortNm': 'СЗ МОНТАЖСТРОЙ', 'devFullCleanNm': 'СПЕЦИАЛИЗИРОВАННЫЙ ЗАСТРОЙЩИК МОНТАЖСТРОЙ', ' ... (557 characters truncated) ... аевич', 'orgForm': {'id': 4, 'fullForm': 'Общество с ограниченной ответственностью', 'shortForm': 'ООО'}, 'objGuarantyEscrowFlg': 1, 'govFundFlg': 0}\", '57', 'г Ливны, ул Максима Горького, д. 39', 'nan', '7', '7', '56', '2024-03-31', 'Кирпич', 'Без отделки', 'Нет', '0', '3439.8', '57-000199', 'https://xn--80az8a.xn--d1aqf.xn--p1ai/api/ext/file/70726F6A6465636C2E646F63732E697A643A6E3D1397ACD44BE1B705C96C0995618F', '07-07-2023 12:00', '52.4234', '37.6077', '0', '0', 'Типовой', '18-12-2023 01:35', \"[{'objId': 53014, 'pdId': 702339, 'rpdId': 702339, 'devId': 9936, 'ordNum': 1, 'objRenderPhotoSize': 8365738, 'objRenderPhotoUrl': 'https://xn--80az8 ... (192 characters truncated) ... Nm': 'максима_гор39_цветовое_решение.jpg', 'objReadyDesc': 'Строится', 'objBuildTypeShortDesc': 'Жилое', 'knFlg': 1, 'loadDttm': '18-12-2023 01:14'}]\", '1', 'normal', 'https://xn--80az8a.xn--d1aqf.xn--p1ai/api/ext/file/70726F6A6465636C2E646F63732E697A643A4FDD9243995A48B984E57006AFA00C4A', '1', '133725', '7', '56', '3439.8', '0', '0', 'True', '18-01-2024 12:00', '0', '1.0', '1.0', '1.0', '19.0', '0.0', '1', '1', '0.0', '0.0', '0.0', '2', 'nan', '0.0', '[]', 'False', 'montagstroy57@yandex.ru', '0', 'C', '5', \"{'objLivElem1KCnt': 21, 'objLivElem2KCnt': 21, 'objLivElem3KCnt': 14, 'objLivElem4KCnt': 0, 'objLivElemCnt': 56, 'objLivElemEntrCnt': 2, 'objLivElemEntrFloorAvg': 4}\", '2,7', 'nan', 'nan', 'nan', 'nan', 'nan', 'nan', 'nan', 'nan'), (6, '49934', '130582', '652403', \"{'devId': 13348, 'devShortCleanNm': 'СЗ ВИРА', 'devShortNm': 'СЗ ВИРА', 'devFullCleanNm': 'СПЕЦИАЛИЗИРОВАННЫЙ ЗАСТРОЙЩИК ВИРА', 'problObjCnt': 0, 'bu ... (533 characters truncated) ... пович', 'orgForm': {'id': 4, 'fullForm': 'Общество с ограниченной ответственностью', 'shortForm': 'ООО'}, 'objGuarantyEscrowFlg': 1, 'govFundFlg': 0}\", '70', 'г Томск, ул Войкова, д. 51, строение 5', 'Жилой комплекс \"Войков\"', '17', '18', '188', '2024-12-31', 'Другое', 'Под чистовую', 'Нет', '0', '7950.43', '70-000134', 'https://xn--80az8a.xn--d1aqf.xn--p1ai/api/ext/file/70726F6A6465636C2E646F63732E697A643A4A249EDE6A47401886EE1009310B99AC', '06-12-2023 07:52', '56.506', '84.9398', '0', '0', 'Типовой', '18-12-2023 01:35', \"[{'objId': 49934, 'pdId': 652403, 'rpdId': 796976, 'devId': 13348, 'ordNum': 1, 'objRenderPhotoSize': 9625375, 'objRenderPhotoUrl': 'https://xn--80az ... (150 characters truncated) ... 'objRenderPhotoNm': 'Рендер_4__5_дом.jpg', 'objReadyDesc': 'Строится', 'objBuildTypeShortDesc': 'Жилое', 'knFlg': 1, 'loadDttm': '18-12-2023 01:14'}]\", '1', 'normal', 'https://xn--80az8a.xn--d1aqf.xn--p1ai/api/ext/file/22a2c4da-0341-4d37-bbef-c03b87a5b8be', '1', '130582', '18', '188', '7950.43', '0', '0', 'True', '29-06-2025 12:00', '1', '1.0', '2.0', '1.0', '188.0', '0.0', '1', '1', '0.0', '2.0', '0.0', '0', 'ООО ВираСтройГрупп (ИНН: 7014067103)', '0.0', '[]', 'False', 'sale@voikov.com', '0', 'B', '7', \"{'objLivElem1KCnt': 62, 'objLivElem2KCnt': 107, 'objLivElem3KCnt': 19, 'objLivElem4KCnt': 0, 'objLivElemCnt': 188, 'objLivElemEntrCnt': 1, 'objLivElemEntrFloorAvg': 12}\", '2,7', '0.653803630747016', '111650.0', 'nan', 'nan', 'nan', 'nan', 'nan', 'nan'), (7, '42085', '122651', '486159', \"{'devId': 12095, 'devShortCleanNm': 'СЗ КАРПОВКА 31', 'devShortNm': 'СЗ КАРПОВКА 31', 'devFullCleanNm': 'СПЕЦИАЛИЗИРОВАННЫЙ ЗАСТРОЙЩИК КАРПОВКА 31',  ... (568 characters truncated) ... : 4, 'fullForm': 'Общество с ограниченной ответственностью', 'shortForm': 'ООО'}, 'companyGroupId': 6057, 'objGuarantyEscrowFlg': 1, 'govFundFlg': 0}\", '78', 'г Санкт-Петербург, наб Реки Карповки, д. 39, литера Б', 'nan', '3', '3', '2', '2023-12-31', 'Кирпич', 'Без отделки', 'Нет', '0', '362.6', '78-001780', 'https://xn--80az8a.xn--d1aqf.xn--p1ai/api/ext/file/70726F6A6465636C2E646F63732E697A643AD77D477DFCE648D0B82436FD8D3E7018', '08-12-2023 16:36', '59.9701', '30.3027', '0', '0', 'Элитный', '18-12-2023 01:35', \"[{'objId': 42085, 'pdId': 486159, 'rpdId': 800677, 'devId': 12095, 'ordNum': 1, 'objRenderPhotoSize': 161672, 'objRenderPhotoUrl': 'https://xn--80az8 ... (170 characters truncated) ... 48878e40-f5d3-11eb-bc90-75e75f7900e1.jpg', 'objReadyDesc': 'Строится', 'objBuildTypeShortDesc': 'Жилое', 'knFlg': 1, 'loadDttm': '18-12-2023 01:14'}]\", '1', 'normal', 'https://xn--80az8a.xn--d1aqf.xn--p1ai/api/ext/file/52b5e096-2126-4ffe-bcf5-8bce5312576d', '1', '122651', '3', '2', '362.6', '0', '0', 'True', '30-09-2024 12:00', '0', '3.0', '1.0', '0.0', '0.0', '0.0', '0', '0', '0.0', '0.0', '0.0', '0', 'ООО Энергогоризонт (ИНН: 7839073370)', '0.0', \"[{'metroStationNm': 'Петроградская', 'isMetroStationDistWalking': True, 'metroStationDistTime': 9.2, 'metroStationDistLength': 0.766, 'metroLineColor ... (349 characters truncated) ... 'metroStationDistTime': 14.2166666666667, 'metroStationDistLength': 0.499, 'metroLineColorHexCode': '0078C9', 'metroLineColorsHexCode': ['#0078C9']}]\", 'True', 'psk@psk-info.ru', '0', 'A', '10', \"{'objLivElem1KCnt': 0, 'objLivElem2KCnt': 0, 'objLivElem3KCnt': 0, 'objLivElem4KCnt': 2, 'objLivElemCnt': 2, 'objLivElemEntrCnt': 1, 'objLivElemEntrFloorAvg': 1}\", '3,68 - 4,2', 'nan', 'nan', 'nan', \"{'id': '15.215', 'name': 'Петроградская', 'line': 'Московско-Петроградская', 'color': '#0078C9', 'time': 9.2, 'isWalk': True, 'colors': ['#0078C9']}\", '8 / 10', '8.0', '3.0', 'nan')  ... displaying 10 of 11662 total bound parameter sets ...  (11660, '53263', '133903', '697966', \"{'devId': 15179, 'devShortCleanNm': 'СЗ ЦЕНТР БИЗНЕСА ПАРИТЕТ', 'devShortNm': 'СЗ ЦЕНТР БИЗНЕСА ПАРИТЕТ', 'devFullCleanNm': 'СПЕЦИАЛИЗИРОВАННЫЙ ЗАСТР ... (578 characters truncated) ... вович', 'orgForm': {'id': 4, 'fullForm': 'Общество с ограниченной ответственностью', 'shortForm': 'ООО'}, 'objGuarantyEscrowFlg': 1, 'govFundFlg': 0}\", '63', 'г Самара, ул Ново-Садовая, д. 106', 'Жилой комплекс \"ЗИМ Галерея\"', '12', '31', '375', '2026-12-31', 'Монолит', 'Без отделки', 'Нет', '336', '26900.77', '63-000837', 'https://xn--80az8a.xn--d1aqf.xn--p1ai/api/ext/file/70726F6A6465636C2E646F63732E697A643AF567FB48DFBC4C7188DA021110B868CB', '07-12-2023 10:02', '53.2178', '50.1503', '0', '0', 'Бизнес', '18-12-2023 01:35', \"[{'objId': 53263, 'pdId': 697966, 'rpdId': 800241, 'devId': 15179, 'ordNum': 1, 'objRenderPhotoSize': 2108450, 'objRenderPhotoUrl': 'https://xn--80az ... (167 characters truncated) ... enFlg': 0, 'objRenderPhotoNm': 'с080.jpg', 'objReadyDesc': 'Строится', 'objBuildTypeShortDesc': 'Жилое', 'knFlg': 1, 'loadDttm': '18-12-2023 01:14'}]\", '1', 'normal', 'https://xn--80az8a.xn--d1aqf.xn--p1ai/api/ext/file/70726F6A6465636C2E646F63732E697A643AAA0FAD6A347749B29DAFF29FABF99C37', '1', '133903', '31', '375', '26900.77', '226', '0', 'True', '30-06-2027 12:00', '0', '1.0', '1.0', '1.0', '0.0', '0.0', '0', '1', '0.0', '11.0', '1.0', '11', 'ООО САМАРАСТРОЙКОНТРОЛЬ (ИНН: 6312177822)', '1.0', \"[{'metroStationNm': 'Российская', 'isMetroStationDistWalking': True, 'metroStationDistTime': 11.5333333333333, 'metroStationDistLength': 0.961, 'metr ... (346 characters truncated) ... 'metroStationDistTime': 18.5333333333333, 'metroStationDistLength': 1.065, 'metroLineColorHexCode': 'CD0505', 'metroLineColorsHexCode': ['#CD0505']}]\", 'True', 'am-163@mail.ru', '0', 'B', '9', \"{'objLivElem1KCnt': 123, 'objLivElem2KCnt': 151, 'objLivElem3KCnt': 87, 'objLivElem4KCnt': 14, 'objLivElemCnt': 375, 'objLivElemEntrCnt': 3, 'objLivElemEntrFloorAvg': 7}\", '2,98', '0.105271336099301', '172160.0', 'nan', \"{'id': '54.307', 'name': 'Российская', 'line': 'Первая', 'color': '#CD0505', 'time': 11.5333333333333, 'isWalk': True, 'colors': ['#CD0505']}\", '7 / 10', '7.0', 'nan', 'nan'), (11661, '38635', '119033', '387819', \"{'devId': 3028, 'devShortCleanNm': 'СЗ НОВОЕ СТРОИТЕЛЬСТВО', 'devShortNm': 'СЗ НОВОЕ СТРОИТЕЛЬСТВО', 'devFullCleanNm': 'СПЕЦИАЛИИРОВАННЫЙ ЗАСТРОЙЩИК  ... (599 characters truncated) ... : 4, 'fullForm': 'Общество с ограниченной ответственностью', 'shortForm': 'ООО'}, 'companyGroupId': 4703, 'objGuarantyEscrowFlg': 1, 'govFundFlg': 0}\", '1', 'г Майкоп, ул Пирогова, д. 4', 'nan', '14', '16', '288', '2024-03-31', 'Кирпич', 'Без отделки', 'Нет', '214', '18526.9', '01-000504', 'https://xn--80az8a.xn--d1aqf.xn--p1ai/api/ext/file/70726F6A6465636C2E646F63732E697A643A88B0AB2E8C81474BAE038995E9E8584F', '08-12-2023 14:49', '44.6069', '40.093', '0', '0', 'Бизнес', '18-12-2023 01:35', \"[{'objId': 38635, 'pdId': 387819, 'rpdId': 801948, 'devId': 3028, 'ordNum': 1, 'objRenderPhotoSize': 4962786, 'objRenderPhotoUrl': 'https://xn--80az8 ... (6240 characters truncated) ... enFlg': 0, 'objRenderPhotoNm': '1916.JPG', 'objReadyDesc': 'Строится', 'objBuildTypeShortDesc': 'Жилое', 'knFlg': 1, 'loadDttm': '18-12-2023 01:14'}]\", '1', 'normal', 'https://xn--80az8a.xn--d1aqf.xn--p1ai/api/ext/file/70726F6A6465636C2E646F63732E697A643A5CB94A77EBCE4864AF5ADAB081F5541A', '1', '119033', '16', '288', '18526.9', '4', '0', 'True', '30-09-2024 12:00', '1', '1.0', '2.0', '1.0', '69.0', '69.0', '1', '1', '0.0', '4.0', '4.0', '4', 'nan', '1.0', '[]', 'False', 'nsmaykop@yandex.ru', '1', 'A++', '9', \"{'objLivElem1KCnt': 163, 'objLivElem2KCnt': 85, 'objLivElem3KCnt': 40, 'objLivElem4KCnt': 0, 'objLivElemCnt': 288, 'objLivElemEntrCnt': 4, 'objLivElemEntrFloorAvg': 6}\", '3', '0.682619866248536', '77329.0', 'nan', 'nan', 'nan', 'nan', 'nan', 'nan'))\n"
     ]
    },
    {
     "name": "stdout",
     "output_type": "stream",
     "text": [
      "2023-12-18 13:00:50,073 INFO sqlalchemy.engine.Engine COMMIT\n"
     ]
    },
    {
     "data": {
      "text/plain": [
       "11662"
      ]
     },
     "execution_count": 21,
     "metadata": {},
     "output_type": "execute_result"
    }
   ],
   "source": [
    "sqlite_table = \"new_buildings\"\n",
    "df1.to_sql(sqlite_table, sqlite_connection)"
   ]
  },
  {
   "cell_type": "code",
   "execution_count": 22,
   "metadata": {},
   "outputs": [],
   "source": [
    "sqlite_connection.close()"
   ]
  }
 ],
 "metadata": {
  "kernelspec": {
   "display_name": "Python 3 (ipykernel)",
   "language": "python",
   "name": "python3"
  },
  "language_info": {
   "codemirror_mode": {
    "name": "ipython",
    "version": 3
   },
   "file_extension": ".py",
   "mimetype": "text/x-python",
   "name": "python",
   "nbconvert_exporter": "python",
   "pygments_lexer": "ipython3",
   "version": "3.10.9"
  },
  "toc": {
   "base_numbering": 1,
   "nav_menu": {},
   "number_sections": true,
   "sideBar": true,
   "skip_h1_title": false,
   "title_cell": "Table of Contents",
   "title_sidebar": "Contents",
   "toc_cell": false,
   "toc_position": {},
   "toc_section_display": true,
   "toc_window_display": false
  }
 },
 "nbformat": 4,
 "nbformat_minor": 1
}
