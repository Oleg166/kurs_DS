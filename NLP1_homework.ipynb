{
  "cells": [
    {
      "cell_type": "markdown",
      "metadata": {
        "id": "dH7qx_irU4Y8"
      },
      "source": [
        "### ML1_1: \n",
        "https://www.hackerrank.com/challenges/capturing-non-capturing-groups/problem?isFullScreen=true\n",
        "\n",
        "### ML1_2: \n",
        "https://www.hackerrank.com/challenges/branch-reset-groups/problem?isFullScreen=true\n",
        "\n",
        "### ML1_3: \n",
        "https://www.hackerrank.com/challenges/detect-html-links/problem?isFullScreen=true\n",
        "\n",
        "### ML1_4: Реализовать stemming, lemmatization & BoW на следующем датасете: https://cloud.mail.ru/public/Z4L3/vB8GcgTtK (Russian Toxic-abuse comments)"
      ]
    },
    {
      "cell_type": "code",
      "execution_count": 2,
      "metadata": {},
      "outputs": [],
      "source": [
        "import re"
      ]
    },
    {
      "cell_type": "code",
      "execution_count": null,
      "metadata": {
        "id": "xJfkstKpqsXp"
      },
      "outputs": [],
      "source": [
        "# ML1_1\n",
        "Regex_Pattern = r'(ok){3,}'\t# Do not delete 'r'.\n",
        "\n",
        "print(str(bool(re.search(Regex_Pattern, input()))).lower())"
      ]
    },
    {
      "cell_type": "code",
      "execution_count": null,
      "metadata": {},
      "outputs": [],
      "source": [
        "# ML1_2\n",
        "Regex_Pattern = r'^(((\\d{2}(-)){3})|((\\d{2}(:)){3})|((\\d{2}(---)){3})|((\\d{2}(\\.)){3})|((\\d{2}(\\,)){3}))(\\d{2})$'\t# Do not delete 'r'.\n",
        "\n",
        "print(str(bool(re.search(Regex_Pattern, input()))).lower())"
      ]
    },
    {
      "cell_type": "code",
      "execution_count": null,
      "metadata": {},
      "outputs": [],
      "source": [
        "# ML1_3\n",
        "\n",
        "a = int(input())\n",
        "\n",
        "for i in range(0, a):\n",
        "    b = input()\n",
        "    A = re.findall(r'href=\\\"((?:http)?.+?)\\\"(?:.+?)?>\\ ?([^<>]*?)?\\ ?(?:<\\/b>)?<\\/a', b)\n",
        "    if A:\n",
        "        for i in A:\n",
        "            print(','.join(i))"
      ]
    },
    {
      "cell_type": "code",
      "execution_count": null,
      "metadata": {},
      "outputs": [],
      "source": [
        "# ML1_4\n",
        "# решим после следующей лекции"
      ]
    }
  ],
  "metadata": {
    "colab": {
      "name": "NLP1_homework",
      "provenance": [],
      "toc_visible": true
    },
    "kernelspec": {
      "display_name": "Python 3",
      "name": "python3"
    },
    "language_info": {
      "codemirror_mode": {
        "name": "ipython",
        "version": 3
      },
      "file_extension": ".py",
      "mimetype": "text/x-python",
      "name": "python",
      "nbconvert_exporter": "python",
      "pygments_lexer": "ipython3",
      "version": "3.11.5"
    }
  },
  "nbformat": 4,
  "nbformat_minor": 0
}
