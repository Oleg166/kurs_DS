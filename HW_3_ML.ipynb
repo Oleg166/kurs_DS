{
 "cells": [
  {
   "cell_type": "code",
   "execution_count": 11,
   "metadata": {},
   "outputs": [],
   "source": [
    "import pandas as pd\n",
    "import numpy as np\n",
    "from sklearn.model_selection import train_test_split\n",
    "from sklearn.linear_model import LinearRegression,Ridge, Lasso\n",
    "from sklearn.metrics import mean_squared_error, r2_score\n",
    "from sklearn.model_selection import GridSearchCV\n",
    "from sklearn.linear_model import RidgeCV\n",
    "from sklearn.linear_model import LassoCV\n",
    "from sklearn.preprocessing import StandardScaler\n",
    "from sklearn.preprocessing import MinMaxScaler\n",
    "from sklearn.preprocessing import PolynomialFeatures\n",
    "from sklearn.preprocessing import LabelEncoder\n",
    "from sklearn.preprocessing import OneHotEncoder\n",
    "from sklearn.linear_model import LogisticRegression\n",
    "from sklearn import metrics\n",
    "from sklearn.model_selection import cross_val_score\n",
    "from sklearn.neighbors import KNeighborsClassifier\n",
    "from sklearn.svm import LinearSVC\n",
    "from sklearn.impute import SimpleImputer"
   ]
  },
  {
   "cell_type": "markdown",
   "metadata": {},
   "source": [
    "# 1 Часть (сделана полностью)"
   ]
  },
  {
   "cell_type": "code",
   "execution_count": 3,
   "metadata": {},
   "outputs": [],
   "source": [
    "RANDOM_STATE = 42\n",
    "\n",
    "results_regression = pd.DataFrame(columns = ['model', 'task', 'R2'])\n",
    "results_classification = pd.DataFrame(columns = ['model', 'task', 'f1', 'accuracy'])"
   ]
  },
  {
   "cell_type": "markdown",
   "metadata": {},
   "source": [
    "https://www.cs.toronto.edu/~delve/data/boston/bostonDetail.html"
   ]
  },
  {
   "cell_type": "code",
   "execution_count": 4,
   "metadata": {},
   "outputs": [
    {
     "data": {
      "text/html": [
       "<div>\n",
       "<style scoped>\n",
       "    .dataframe tbody tr th:only-of-type {\n",
       "        vertical-align: middle;\n",
       "    }\n",
       "\n",
       "    .dataframe tbody tr th {\n",
       "        vertical-align: top;\n",
       "    }\n",
       "\n",
       "    .dataframe thead th {\n",
       "        text-align: right;\n",
       "    }\n",
       "</style>\n",
       "<table border=\"1\" class=\"dataframe\">\n",
       "  <thead>\n",
       "    <tr style=\"text-align: right;\">\n",
       "      <th></th>\n",
       "      <th>CRIM</th>\n",
       "      <th>ZN</th>\n",
       "      <th>INDUS</th>\n",
       "      <th>CHAS</th>\n",
       "      <th>NOX</th>\n",
       "      <th>RM</th>\n",
       "      <th>AGE</th>\n",
       "      <th>DIS</th>\n",
       "      <th>RAD</th>\n",
       "      <th>TAX</th>\n",
       "      <th>PTRATIO</th>\n",
       "      <th>B</th>\n",
       "      <th>LSTAT</th>\n",
       "      <th>MEDV</th>\n",
       "    </tr>\n",
       "  </thead>\n",
       "  <tbody>\n",
       "    <tr>\n",
       "      <th>0</th>\n",
       "      <td>0.00632</td>\n",
       "      <td>18.0</td>\n",
       "      <td>2.31</td>\n",
       "      <td>0.0</td>\n",
       "      <td>0.538</td>\n",
       "      <td>6.575</td>\n",
       "      <td>65.2</td>\n",
       "      <td>4.0900</td>\n",
       "      <td>1.0</td>\n",
       "      <td>296.0</td>\n",
       "      <td>15.3</td>\n",
       "      <td>396.90</td>\n",
       "      <td>4.98</td>\n",
       "      <td>24.0</td>\n",
       "    </tr>\n",
       "    <tr>\n",
       "      <th>1</th>\n",
       "      <td>0.02731</td>\n",
       "      <td>0.0</td>\n",
       "      <td>7.07</td>\n",
       "      <td>0.0</td>\n",
       "      <td>0.469</td>\n",
       "      <td>6.421</td>\n",
       "      <td>78.9</td>\n",
       "      <td>4.9671</td>\n",
       "      <td>2.0</td>\n",
       "      <td>242.0</td>\n",
       "      <td>17.8</td>\n",
       "      <td>396.90</td>\n",
       "      <td>9.14</td>\n",
       "      <td>21.6</td>\n",
       "    </tr>\n",
       "    <tr>\n",
       "      <th>2</th>\n",
       "      <td>0.02729</td>\n",
       "      <td>0.0</td>\n",
       "      <td>7.07</td>\n",
       "      <td>0.0</td>\n",
       "      <td>0.469</td>\n",
       "      <td>7.185</td>\n",
       "      <td>61.1</td>\n",
       "      <td>4.9671</td>\n",
       "      <td>2.0</td>\n",
       "      <td>242.0</td>\n",
       "      <td>17.8</td>\n",
       "      <td>392.83</td>\n",
       "      <td>4.03</td>\n",
       "      <td>34.7</td>\n",
       "    </tr>\n",
       "    <tr>\n",
       "      <th>3</th>\n",
       "      <td>0.03237</td>\n",
       "      <td>0.0</td>\n",
       "      <td>2.18</td>\n",
       "      <td>0.0</td>\n",
       "      <td>0.458</td>\n",
       "      <td>6.998</td>\n",
       "      <td>45.8</td>\n",
       "      <td>6.0622</td>\n",
       "      <td>3.0</td>\n",
       "      <td>222.0</td>\n",
       "      <td>18.7</td>\n",
       "      <td>394.63</td>\n",
       "      <td>2.94</td>\n",
       "      <td>33.4</td>\n",
       "    </tr>\n",
       "    <tr>\n",
       "      <th>4</th>\n",
       "      <td>0.06905</td>\n",
       "      <td>0.0</td>\n",
       "      <td>2.18</td>\n",
       "      <td>0.0</td>\n",
       "      <td>0.458</td>\n",
       "      <td>7.147</td>\n",
       "      <td>54.2</td>\n",
       "      <td>6.0622</td>\n",
       "      <td>3.0</td>\n",
       "      <td>222.0</td>\n",
       "      <td>18.7</td>\n",
       "      <td>396.90</td>\n",
       "      <td>5.33</td>\n",
       "      <td>36.2</td>\n",
       "    </tr>\n",
       "  </tbody>\n",
       "</table>\n",
       "</div>"
      ],
      "text/plain": [
       "      CRIM    ZN  INDUS  CHAS    NOX     RM   AGE     DIS  RAD    TAX  \\\n",
       "0  0.00632  18.0   2.31   0.0  0.538  6.575  65.2  4.0900  1.0  296.0   \n",
       "1  0.02731   0.0   7.07   0.0  0.469  6.421  78.9  4.9671  2.0  242.0   \n",
       "2  0.02729   0.0   7.07   0.0  0.469  7.185  61.1  4.9671  2.0  242.0   \n",
       "3  0.03237   0.0   2.18   0.0  0.458  6.998  45.8  6.0622  3.0  222.0   \n",
       "4  0.06905   0.0   2.18   0.0  0.458  7.147  54.2  6.0622  3.0  222.0   \n",
       "\n",
       "   PTRATIO       B  LSTAT  MEDV  \n",
       "0     15.3  396.90   4.98  24.0  \n",
       "1     17.8  396.90   9.14  21.6  \n",
       "2     17.8  392.83   4.03  34.7  \n",
       "3     18.7  394.63   2.94  33.4  \n",
       "4     18.7  396.90   5.33  36.2  "
      ]
     },
     "execution_count": 4,
     "metadata": {},
     "output_type": "execute_result"
    }
   ],
   "source": [
    "data = pd.read_csv('boston.csv')\n",
    "data.head()"
   ]
  },
  {
   "cell_type": "markdown",
   "metadata": {},
   "source": [
    "1. Разделите выборку на обучающую и тестовую в отношении 80%/20%, предварительно выделив целевую переменную (колонка 'MEDV')."
   ]
  },
  {
   "cell_type": "code",
   "execution_count": 5,
   "metadata": {},
   "outputs": [],
   "source": [
    "data_feat = data.drop('MEDV',axis=1)\n",
    "data_targ = data['MEDV']\n",
    "x_train, x_test, y_train, y_test = train_test_split(data_feat, \n",
    "                                                    data_targ, \n",
    "                                                    test_size=0.2, \n",
    "                                                    random_state=RANDOM_STATE \n",
    "                                                    )"
   ]
  },
  {
   "cell_type": "markdown",
   "metadata": {},
   "source": [
    "2. Обучите стандартную регрессию, а также Ridge и  Lasso с параметрами по умолчанию и выведите их R2 на тестовой выборке"
   ]
  },
  {
   "cell_type": "code",
   "execution_count": 6,
   "metadata": {},
   "outputs": [
    {
     "name": "stdout",
     "output_type": "stream",
     "text": [
      "r2_lr: 0.6684825753971606\n",
      "r2_ridge: 0.6659608075261692\n",
      "r2_lasso: 0.6668687223368214\n",
      "CPU times: total: 109 ms\n",
      "Wall time: 253 ms\n"
     ]
    }
   ],
   "source": [
    "%%time\n",
    "# Линейная регрессия\n",
    "LR = LinearRegression()\n",
    "LR.fit(x_train, y_train)\n",
    "\n",
    "y_pred = LR.predict(x_test)\n",
    "r2_lr = r2_score(y_test, y_pred)\n",
    "\n",
    "# Ridge\n",
    "\n",
    "Ridge = Ridge()\n",
    "Ridge.fit(x_train, y_train)\n",
    "\n",
    "y_pred_r = Ridge.predict(x_test)\n",
    "r2_ridge = r2_score(y_test, y_pred_r)\n",
    "\n",
    "# Lasso\n",
    "\n",
    "Lasso = Lasso()\n",
    "Lasso.fit(x_train, y_train)\n",
    "\n",
    "y_pred_l = Lasso.predict(x_test)\n",
    "r2_lasso = r2_score(y_test, y_pred_l)\n",
    "\n",
    "print('r2_lr:', r2_lr)\n",
    "print('r2_ridge:', r2_ridge)\n",
    "print('r2_lasso:', r2_lasso)\n",
    "\n",
    "# r2_lr = 0\n",
    "# r2_ridge = 0\n",
    "# r2_lasso = 0\n",
    "results_regression.loc[0] = ['LR', 'task2', r2_lr]\n",
    "results_regression.loc[1] = ['Ridge', 'task2', r2_ridge]\n",
    "results_regression.loc[2] = ['Lasso', 'task2', r2_lasso]"
   ]
  },
  {
   "cell_type": "code",
   "execution_count": 7,
   "metadata": {},
   "outputs": [
    {
     "name": "stdout",
     "output_type": "stream",
     "text": [
      "Лучший результат у линейной регрессии: R2 = 0.6684825753971606\n"
     ]
    }
   ],
   "source": [
    "print(f'Лучший результат у линейной регрессии: R2 = {r2_lr}')"
   ]
  },
  {
   "cell_type": "markdown",
   "metadata": {},
   "source": [
    "3. Для Ridge и Lasso подберите коэффициент регуляризации двумя способами 1) GridSearchCV, 2) RidgeCV и LassoCV, в пределах от $10^{-5}$ до $10^5$ (по степеням 10). Посчитайте R2 на тестовой выборке по всем моделям и сравните с предыдущими результатами."
   ]
  },
  {
   "cell_type": "code",
   "execution_count": 8,
   "metadata": {},
   "outputs": [
    {
     "name": "stdout",
     "output_type": "stream",
     "text": [
      "r2_ridge_grid_search: 0.6684825680074256\n",
      "r2_ridge_cv: 0.7024461116760787\n",
      "r2_lasso_grid_search: 0.6684829595885677\n",
      "r2_lasso_cv: 0.6883086259341868\n"
     ]
    }
   ],
   "source": [
    "parametrs = {'alpha':[0.00001, 0.0001, 0.001, 0.01, 0.1, 1, 10, 100, 1000, 10000]}\n",
    "\n",
    "# Ridge_GridSearchCV\n",
    "\n",
    "Ridge_GS = GridSearchCV(Ridge, parametrs)\n",
    "Ridge_GS.fit(x_train, y_train)\n",
    "y_pred_gs_r = Ridge_GS.predict(x_test)\n",
    "r2_ridge_grid_search = r2_score(y_test, y_pred_gs_r)\n",
    "print('r2_ridge_grid_search:', r2_ridge_grid_search)\n",
    "\n",
    "# RidgeCV\n",
    "\n",
    "Ridge_CV = RidgeCV(alphas=[0.00001, 0.0001, 0.001, 0.01, 0.1, 1, 10, 100, 1000, 10000]).fit(data_feat, data_targ)\n",
    "y_pred_r_cv = Ridge_CV .predict(x_test)\n",
    "r2_ridge_cv = r2_score(y_test, y_pred_r_cv)\n",
    "print('r2_ridge_cv:', r2_ridge_cv)\n",
    "\n",
    "# Lasso_GridSearchCV\n",
    "\n",
    "Lasso_GS = GridSearchCV(Lasso, parametrs)\n",
    "Lasso_GS.fit(x_train, y_train)\n",
    "y_pred_gs_l = Lasso_GS.predict(x_test)\n",
    "r2_lasso_grid_search = r2_score(y_test, y_pred_gs_l)\n",
    "print('r2_lasso_grid_search:', r2_lasso_grid_search)\n",
    "\n",
    "# LassoCV\n",
    "\n",
    "Lasso_CV = LassoCV(alphas=[0.00001, 0.0001, 0.001, 0.01, 0.1, 1, 10, 100, 1000, 10000], random_state=RANDOM_STATE).fit(data_feat, data_targ)\n",
    "y_pred_l_cv = Lasso_CV.predict(x_test)\n",
    "r2_lasso_cv = r2_score(y_test, y_pred_l_cv)\n",
    "print('r2_lasso_cv:', r2_lasso_cv)\n",
    "\n",
    "# r2_ridge_grid_search = 0\n",
    "# r2_ridge_cv = 0\n",
    "# r2_lasso_grid_search = 0\n",
    "# r2_lasso_cv = 0\n",
    "results_regression.loc[3] = ['Ridge_GridSearchCV', 'task3', r2_ridge_grid_search]\n",
    "results_regression.loc[4] = ['RidgeCV', 'task3', r2_ridge_cv]\n",
    "results_regression.loc[5] = ['Lasso_GridSearchCV', 'task3', r2_lasso_grid_search]\n",
    "results_regression.loc[6] = ['LassoCV', 'task3', r2_lasso_cv]"
   ]
  },
  {
   "cell_type": "code",
   "execution_count": 9,
   "metadata": {},
   "outputs": [
    {
     "name": "stdout",
     "output_type": "stream",
     "text": [
      "Лучший результат у \"RidgeCV\": R2 = 0.7024461116760787. По сравнению с лучшим результатом на предыдущем этапе R2 улучшился на 0.03396353627891813\"\n"
     ]
    }
   ],
   "source": [
    "print(f'Лучший результат у \"RidgeCV\": R2 = {r2_ridge_cv}. По сравнению с лучшим результатом на предыдущем этапе R2 улучшился на {r2_ridge_cv - r2_lr}\"')"
   ]
  },
  {
   "cell_type": "markdown",
   "metadata": {},
   "source": [
    "4. Проведите масштабирование выборки (используйте Pipeline, StandardScaler, MinMaxScaler), посчитайте R2 для Ridge и Lasso с параметрами по умолчанию и сравните с предыдущими результатами."
   ]
  },
  {
   "cell_type": "code",
   "execution_count": 12,
   "metadata": {},
   "outputs": [
    {
     "name": "stdout",
     "output_type": "stream",
     "text": [
      "r2_ridge_standart_scaler: 0.6681901076774426\n",
      "r2_lasso_standart_scaler: 0.6240447523478461\n",
      "r2_ridge_min_max_scaler: 0.6762207658974593\n",
      "r2_lasso_min_max_scaler: 0.2573921442545194\n"
     ]
    }
   ],
   "source": [
    "# StandardScaler подготовка данных\n",
    "\n",
    "scaler = StandardScaler()\n",
    "x_train_scaled = scaler.fit_transform(x_train)\n",
    "x_test_scaled = scaler.transform(x_test)\n",
    "\n",
    "# MinMaxScaler подготовка данных\n",
    "\n",
    "min_max_scaler = MinMaxScaler()\n",
    "x_train_scaled_m = min_max_scaler.fit_transform(x_train)\n",
    "x_test_scaled_m = min_max_scaler.transform(x_test)\n",
    "\n",
    "#Ridge StandardScaler\n",
    "\n",
    "Ridge_1 = Ridge()\n",
    "Ridge_1.fit(x_train_scaled, y_train)\n",
    "\n",
    "y_pred_r_1 = Ridge_1.predict(x_test_scaled)\n",
    "r2_ridge_standart_scaler = r2_score(y_test, y_pred_r_1)\n",
    "print('r2_ridge_standart_scaler:', r2_ridge_standart_scaler)\n",
    "\n",
    "#Lasso StandardScaler\n",
    "\n",
    "Lasso_1 = Lasso()\n",
    "Lasso_1.fit(x_train_scaled, y_train)\n",
    "\n",
    "y_pred_l_1 = Lasso_1.predict(x_test_scaled)\n",
    "r2_lasso_standart_scaler = r2_score(y_test, y_pred_l_1)\n",
    "print('r2_lasso_standart_scaler:', r2_lasso_standart_scaler)\n",
    "\n",
    "#Ridge MinMaxScaler\n",
    "\n",
    "Ridge_MinMaxScaler = Ridge()\n",
    "Ridge_MinMaxScaler.fit(x_train_scaled_m, y_train)\n",
    "\n",
    "y_pred_r_MinMaxScaler = Ridge_MinMaxScaler.predict(x_test_scaled_m)\n",
    "r2_ridge_min_max_scaler = r2_score(y_test, y_pred_r_MinMaxScaler)\n",
    "print('r2_ridge_min_max_scaler:', r2_ridge_min_max_scaler)\n",
    "\n",
    "#Lasso MinMaxScaler\n",
    "\n",
    "Lasso_MinMaxScaler = Lasso()\n",
    "Lasso_MinMaxScaler.fit(x_train_scaled_m, y_train)\n",
    "\n",
    "y_pred_l_MinMaxScaler = Lasso_MinMaxScaler.predict(x_test_scaled_m)\n",
    "r2_lasso_min_max_scaler = r2_score(y_test, y_pred_l_MinMaxScaler)\n",
    "print('r2_lasso_min_max_scaler:', r2_lasso_min_max_scaler)\n",
    "\n",
    "# r2_ridge_standart_scaler = 0\n",
    "# r2_ridge_min_max_scaler = 0\n",
    "# r2_lasso_standart_scaler = 0\n",
    "# r2_lasso_min_max_scaler = 0\n",
    "results_regression.loc[7] = ['Ridge_StandardScaler', 'task4', r2_ridge_standart_scaler]\n",
    "results_regression.loc[8] = ['Ridge_MinMaxScaler', 'task4', r2_ridge_min_max_scaler]\n",
    "results_regression.loc[9] = ['Lasso_StandardScaler', 'task4', r2_lasso_standart_scaler]\n",
    "results_regression.loc[10] = ['Lasso_MinMaxScaler', 'task4', r2_lasso_min_max_scaler]"
   ]
  },
  {
   "cell_type": "code",
   "execution_count": 13,
   "metadata": {},
   "outputs": [
    {
     "name": "stdout",
     "output_type": "stream",
     "text": [
      "Лучший результат на данном этапе у \"Lasso_StandardScaler\": R2 = 0.6240447523478461\n",
      "По сравнению с лучшим результатом на предыдущих этапах (\"RidgeCV\" R2 = 0.7024461116760787) R2 ухудшился на 0.07840135932823267\n"
     ]
    }
   ],
   "source": [
    "print(f'Лучший результат на данном этапе у \"Lasso_StandardScaler\": R2 = {r2_lasso_standart_scaler}') \n",
    "print(f'По сравнению с лучшим результатом на предыдущих этапах (\"RidgeCV\" R2 = {r2_ridge_cv}) R2 ухудшился на {r2_ridge_cv - r2_lasso_standart_scaler}')"
   ]
  },
  {
   "cell_type": "markdown",
   "metadata": {},
   "source": [
    "5. Подберите коэффициент регуляризации для Ridge и Lasso на масштабированных данных, посчитайте R2 и сравните с предыдущими результатами."
   ]
  },
  {
   "cell_type": "code",
   "execution_count": 14,
   "metadata": {},
   "outputs": [
    {
     "name": "stdout",
     "output_type": "stream",
     "text": [
      "r2_ridge_standart_scaler_cv: 0.6657305340616932\n",
      "r2_ridge_min_max_scaler_cv: 0.6697651112860057\n",
      "r2_lasso_standart_scaler_cv: 0.6684821312777707\n",
      "r2_lasso_min_max_scaler_cv: 0.668483656442819\n"
     ]
    }
   ],
   "source": [
    "# StandardScaler подготовка данных\n",
    "\n",
    "scaler = StandardScaler()\n",
    "x_train_scaled = scaler.fit_transform(x_train)\n",
    "x_test_scaled = scaler.transform(x_test)\n",
    "\n",
    "# MinMaxScaler подготовка данных\n",
    "\n",
    "min_max_scaler = MinMaxScaler()\n",
    "x_train_scaled_m = min_max_scaler.fit_transform(x_train)\n",
    "x_test_scaled_m = min_max_scaler.transform(x_test)\n",
    "\n",
    "# Ridge_StandardScaler_CV\n",
    "\n",
    "R_SS_CV = RidgeCV(alphas=[0.00001, 0.0001, 0.001, 0.01, 0.1, 1, 10, 100, 1000, 10000]).fit(x_train_scaled, y_train)\n",
    "y_pred_r_ss_cv = R_SS_CV.predict(x_test_scaled)\n",
    "r2_ridge_standart_scaler_cv = r2_score(y_test, y_pred_r_ss_cv)\n",
    "print('r2_ridge_standart_scaler_cv:', r2_ridge_standart_scaler_cv)\n",
    "\n",
    "# Ridge_MinMaxScaler_CV\n",
    "\n",
    "R_MM_CV = RidgeCV(alphas=[0.00001, 0.0001, 0.001, 0.01, 0.1, 1, 10, 100, 1000, 10000]).fit(x_train_scaled_m, y_train)\n",
    "y_pred_r_mm_cv = R_MM_CV.predict(x_test_scaled_m)\n",
    "r2_ridge_min_max_scaler_cv = r2_score(y_test, y_pred_r_mm_cv)\n",
    "print('r2_ridge_min_max_scaler_cv:', r2_ridge_min_max_scaler_cv)\n",
    "\n",
    "# Lasso_StandardScaler_CV\n",
    "\n",
    "L_SS_CV = LassoCV(alphas=[0.00001, 0.0001, 0.001, 0.01, 0.1, 1, 10, 100, 1000, 10000], random_state=RANDOM_STATE).fit(x_train_scaled, y_train)\n",
    "y_pred_l_ss_cv = L_SS_CV.predict(x_test_scaled)\n",
    "r2_lasso_standart_scaler_cv = r2_score(y_test, y_pred_l_ss_cv)\n",
    "print('r2_lasso_standart_scaler_cv:', r2_lasso_standart_scaler_cv)\n",
    "\n",
    "# Lasso_MinMaxScaler_CV\n",
    "\n",
    "L_MM_CV = LassoCV(alphas=[0.00001, 0.0001, 0.001, 0.01, 0.1, 1, 10, 100, 1000, 10000], random_state=RANDOM_STATE).fit(x_train_scaled_m, y_train)\n",
    "y_pred_l_mm_cv = L_MM_CV.predict(x_test_scaled_m)\n",
    "r2_lasso_min_max_scaler_cv = r2_score(y_test, y_pred_l_mm_cv)\n",
    "print('r2_lasso_min_max_scaler_cv:', r2_lasso_min_max_scaler_cv)\n",
    "\n",
    "# r2_ridge_standart_scaler_cv = 0\n",
    "# r2_ridge_min_max_scaler_cv = 0\n",
    "# r2_lasso_standart_scaler_cv = 0\n",
    "# r2_lasso_min_max_scaler_cv = 0\n",
    "results_regression.loc[11] = ['Ridge_StandardScaler_CV', 'task5', r2_ridge_standart_scaler_cv]\n",
    "results_regression.loc[12] = ['Ridge_MinMaxScaler_CV', 'task5', r2_ridge_min_max_scaler_cv]\n",
    "results_regression.loc[13] = ['Lasso_StandardScaler_CV', 'task5', r2_lasso_standart_scaler_cv]\n",
    "results_regression.loc[14] = ['Lasso_MinMaxScaler_CV', 'task5', r2_lasso_min_max_scaler_cv]"
   ]
  },
  {
   "cell_type": "code",
   "execution_count": 15,
   "metadata": {},
   "outputs": [
    {
     "name": "stdout",
     "output_type": "stream",
     "text": [
      "Лучший результат на данном этапе у \"Ridge_MinMaxScaler_CV\": R2 = 0.6697651112860057\n",
      "По сравнению с лучшим результатом на предыдущих этапах (\"RidgeCV\" R2 = 0.7024461116760787) R2 ухудшился на 0.032681000390073045\n"
     ]
    }
   ],
   "source": [
    "print(f'Лучший результат на данном этапе у \"Ridge_MinMaxScaler_CV\": R2 = {r2_ridge_min_max_scaler_cv}') \n",
    "print(f'По сравнению с лучшим результатом на предыдущих этапах (\"RidgeCV\" R2 = {r2_ridge_cv}) R2 ухудшился на {r2_ridge_cv - r2_ridge_min_max_scaler_cv}')"
   ]
  },
  {
   "cell_type": "markdown",
   "metadata": {},
   "source": [
    "6. Добавьте попарные произведения признаков и их квадраты (используйте PolynomialFeatures) на масштабированных признаках, посчитайте R2 для Ridge и Lasso с параметрами по умолчанию и сравните с предыдущими результатами."
   ]
  },
  {
   "cell_type": "code",
   "execution_count": 16,
   "metadata": {},
   "outputs": [
    {
     "name": "stdout",
     "output_type": "stream",
     "text": [
      "r2_ridge_standart_scaler_poly: 0.8171359789657142\n",
      "r2_ridge_min_max_scaler_poly: 0.8298862467502752\n",
      "r2_lasso_standart_scaler_poly: 0.7322738282708989\n",
      "r2_lasso_min_max_scaler_poly: 0.26112627417356593\n"
     ]
    }
   ],
   "source": [
    "# StandardScaler подготовка данных\n",
    "\n",
    "scaler = StandardScaler()\n",
    "x_train_scaled = scaler.fit_transform(x_train)\n",
    "x_test_scaled = scaler.transform(x_test)\n",
    "\n",
    "# MinMaxScaler подготовка данных\n",
    "\n",
    "min_max_scaler = MinMaxScaler()\n",
    "x_train_scaled_m = min_max_scaler.fit_transform(x_train)\n",
    "x_test_scaled_m = min_max_scaler.transform(x_test)\n",
    "\n",
    "# Прогоняем через Polynomial\n",
    "\n",
    "poly = PolynomialFeatures(2)\n",
    "\n",
    "x_train_sscaled_poly = poly.fit_transform(x_train_scaled)\n",
    "x_test_sscaled_poly = poly.fit_transform(x_test_scaled)\n",
    "\n",
    "x_train_sscaled_m_poly = poly.fit_transform(x_train_scaled_m)\n",
    "x_test_sscaled_m_poly = poly.fit_transform(x_test_scaled_m)\n",
    "\n",
    "# r2_ridge_standart_scaler_poly\n",
    "\n",
    "Ridge_2 = Ridge()\n",
    "Ridge_2.fit(x_train_sscaled_poly, y_train)\n",
    "\n",
    "y_pred_r_2 = Ridge_2.predict(x_test_sscaled_poly)\n",
    "r2_ridge_standart_scaler_poly = r2_score(y_test, y_pred_r_2)\n",
    "print('r2_ridge_standart_scaler_poly:', r2_ridge_standart_scaler_poly)\n",
    "\n",
    "# r2_ridge_min_max_scaler_poly\n",
    "\n",
    "Ridge_MinMaxScaler_2 = Ridge()\n",
    "Ridge_MinMaxScaler_2.fit(x_train_sscaled_m_poly, y_train)\n",
    "\n",
    "y_pred_r_MinMaxScaler_2 = Ridge_MinMaxScaler_2.predict(x_test_sscaled_m_poly)\n",
    "r2_ridge_min_max_scaler_poly = r2_score(y_test, y_pred_r_MinMaxScaler_2)\n",
    "print('r2_ridge_min_max_scaler_poly:', r2_ridge_min_max_scaler_poly)\n",
    "\n",
    "# r2_lasso_standart_scaler_poly\n",
    "\n",
    "Lasso_3 = Lasso()\n",
    "Lasso_3.fit(x_train_sscaled_poly, y_train)\n",
    "\n",
    "y_pred_l_3 = Lasso_3.predict(x_test_sscaled_poly)\n",
    "r2_lasso_standart_scaler_poly = r2_score(y_test, y_pred_l_3)\n",
    "print('r2_lasso_standart_scaler_poly:', r2_lasso_standart_scaler_poly)\n",
    "\n",
    "# r2_lasso_min_max_scaler_poly\n",
    "\n",
    "Lasso_MinMaxScaler_3 = Lasso()\n",
    "Lasso_MinMaxScaler_3.fit(x_train_sscaled_m_poly, y_train)\n",
    "\n",
    "y_pred_l_MinMaxScaler_3 = Lasso_MinMaxScaler_3.predict(x_test_sscaled_m_poly)\n",
    "r2_lasso_min_max_scaler_poly = r2_score(y_test, y_pred_l_MinMaxScaler_3)\n",
    "print('r2_lasso_min_max_scaler_poly:', r2_lasso_min_max_scaler_poly)\n",
    "\n",
    "# r2_ridge_standart_scaler_poly = 0\n",
    "# r2_ridge_min_max_scaler_poly = 0\n",
    "# r2_lasso_standart_scaler_poly = 0\n",
    "# r2_lasso_min_max_scaler_poly = 0\n",
    "results_regression.loc[15] = ['Ridge_StandardScaler_Poly', 'task6', r2_ridge_standart_scaler_poly]\n",
    "results_regression.loc[16] = ['Ridge_MinMaxScaler_Poly', 'task6', r2_ridge_min_max_scaler_poly]\n",
    "results_regression.loc[17] = ['Lasso_StandardScaler_Poly', 'task6', r2_lasso_standart_scaler_poly]\n",
    "results_regression.loc[18] = ['Lasso_MinMaxScaler_Poly', 'task6', r2_lasso_min_max_scaler_poly]"
   ]
  },
  {
   "cell_type": "code",
   "execution_count": 17,
   "metadata": {},
   "outputs": [
    {
     "name": "stdout",
     "output_type": "stream",
     "text": [
      "Лучший результат на данном этапе у \"Ridge_MinMaxScaler_Poly\": R2 = 0.8298862467502752\n",
      "По сравнению с лучшим результатом на предыдущих этапах (\"RidgeCV\" R2 = 0.7024461116760787) R2 улучшился на 0.1274401350741965\n"
     ]
    }
   ],
   "source": [
    "print(f'Лучший результат на данном этапе у \"Ridge_MinMaxScaler_Poly\": R2 = {r2_ridge_min_max_scaler_poly}') \n",
    "print(f'По сравнению с лучшим результатом на предыдущих этапах (\"RidgeCV\" R2 = {r2_ridge_cv}) R2 улучшился на {r2_ridge_min_max_scaler_poly - r2_ridge_cv}')"
   ]
  },
  {
   "cell_type": "markdown",
   "metadata": {},
   "source": [
    "7. Подберите коэффициент регуляризации для Ridge и Lasso на масштабированных данных, добавив PolynomialFeatures, посчитайте R2 и сравните с предыдущими результатами."
   ]
  },
  {
   "cell_type": "code",
   "execution_count": 18,
   "metadata": {},
   "outputs": [
    {
     "name": "stderr",
     "output_type": "stream",
     "text": [
      "c:\\anaconda3\\Lib\\site-packages\\sklearn\\linear_model\\_coordinate_descent.py:614: ConvergenceWarning: Objective did not converge. You might want to increase the number of iterations. Duality gap: 8.7088881028601, tolerance: 2.882109046439629\n",
      "  model = cd_fast.enet_coordinate_descent_gram(\n",
      "c:\\anaconda3\\Lib\\site-packages\\sklearn\\linear_model\\_coordinate_descent.py:614: ConvergenceWarning: Objective did not converge. You might want to increase the number of iterations. Duality gap: 325.3702094707344, tolerance: 2.882109046439629\n",
      "  model = cd_fast.enet_coordinate_descent_gram(\n",
      "c:\\anaconda3\\Lib\\site-packages\\sklearn\\linear_model\\_coordinate_descent.py:614: ConvergenceWarning: Objective did not converge. You might want to increase the number of iterations. Duality gap: 649.7148073796305, tolerance: 2.882109046439629\n",
      "  model = cd_fast.enet_coordinate_descent_gram(\n",
      "c:\\anaconda3\\Lib\\site-packages\\sklearn\\linear_model\\_coordinate_descent.py:614: ConvergenceWarning: Objective did not converge. You might want to increase the number of iterations. Duality gap: 701.1032753317556, tolerance: 2.882109046439629\n",
      "  model = cd_fast.enet_coordinate_descent_gram(\n",
      "c:\\anaconda3\\Lib\\site-packages\\sklearn\\linear_model\\_coordinate_descent.py:614: ConvergenceWarning: Objective did not converge. You might want to increase the number of iterations. Duality gap: 2.920691500167777, tolerance: 2.764448730650155\n",
      "  model = cd_fast.enet_coordinate_descent_gram(\n",
      "c:\\anaconda3\\Lib\\site-packages\\sklearn\\linear_model\\_coordinate_descent.py:614: ConvergenceWarning: Objective did not converge. You might want to increase the number of iterations. Duality gap: 631.2541944075549, tolerance: 2.764448730650155\n",
      "  model = cd_fast.enet_coordinate_descent_gram(\n",
      "c:\\anaconda3\\Lib\\site-packages\\sklearn\\linear_model\\_coordinate_descent.py:614: ConvergenceWarning: Objective did not converge. You might want to increase the number of iterations. Duality gap: 688.2257797691277, tolerance: 2.764448730650155\n",
      "  model = cd_fast.enet_coordinate_descent_gram(\n",
      "c:\\anaconda3\\Lib\\site-packages\\sklearn\\linear_model\\_coordinate_descent.py:614: ConvergenceWarning: Objective did not converge. You might want to increase the number of iterations. Duality gap: 706.345202100021, tolerance: 2.764448730650155\n",
      "  model = cd_fast.enet_coordinate_descent_gram(\n",
      "c:\\anaconda3\\Lib\\site-packages\\sklearn\\linear_model\\_coordinate_descent.py:614: ConvergenceWarning: Objective did not converge. You might want to increase the number of iterations. Duality gap: 28.578920017641394, tolerance: 2.7104949226006196\n",
      "  model = cd_fast.enet_coordinate_descent_gram(\n",
      "c:\\anaconda3\\Lib\\site-packages\\sklearn\\linear_model\\_coordinate_descent.py:614: ConvergenceWarning: Objective did not converge. You might want to increase the number of iterations. Duality gap: 460.04938859860715, tolerance: 2.7104949226006196\n",
      "  model = cd_fast.enet_coordinate_descent_gram(\n",
      "c:\\anaconda3\\Lib\\site-packages\\sklearn\\linear_model\\_coordinate_descent.py:614: ConvergenceWarning: Objective did not converge. You might want to increase the number of iterations. Duality gap: 780.0052529734082, tolerance: 2.7104949226006196\n",
      "  model = cd_fast.enet_coordinate_descent_gram(\n",
      "c:\\anaconda3\\Lib\\site-packages\\sklearn\\linear_model\\_coordinate_descent.py:614: ConvergenceWarning: Objective did not converge. You might want to increase the number of iterations. Duality gap: 796.3896345456219, tolerance: 2.7104949226006196\n",
      "  model = cd_fast.enet_coordinate_descent_gram(\n",
      "c:\\anaconda3\\Lib\\site-packages\\sklearn\\linear_model\\_coordinate_descent.py:614: ConvergenceWarning: Objective did not converge. You might want to increase the number of iterations. Duality gap: 3.239390237938551, tolerance: 2.729756922600619\n",
      "  model = cd_fast.enet_coordinate_descent_gram(\n",
      "c:\\anaconda3\\Lib\\site-packages\\sklearn\\linear_model\\_coordinate_descent.py:614: ConvergenceWarning: Objective did not converge. You might want to increase the number of iterations. Duality gap: 496.0011949216239, tolerance: 2.729756922600619\n",
      "  model = cd_fast.enet_coordinate_descent_gram(\n",
      "c:\\anaconda3\\Lib\\site-packages\\sklearn\\linear_model\\_coordinate_descent.py:614: ConvergenceWarning: Objective did not converge. You might want to increase the number of iterations. Duality gap: 722.3695199201653, tolerance: 2.729756922600619\n",
      "  model = cd_fast.enet_coordinate_descent_gram(\n",
      "c:\\anaconda3\\Lib\\site-packages\\sklearn\\linear_model\\_coordinate_descent.py:614: ConvergenceWarning: Objective did not converge. You might want to increase the number of iterations. Duality gap: 737.2028617838376, tolerance: 2.729756922600619\n",
      "  model = cd_fast.enet_coordinate_descent_gram(\n",
      "c:\\anaconda3\\Lib\\site-packages\\sklearn\\linear_model\\_coordinate_descent.py:614: ConvergenceWarning: Objective did not converge. You might want to increase the number of iterations. Duality gap: 3.469413744604026, tolerance: 2.947695024691358\n",
      "  model = cd_fast.enet_coordinate_descent_gram(\n",
      "c:\\anaconda3\\Lib\\site-packages\\sklearn\\linear_model\\_coordinate_descent.py:614: ConvergenceWarning: Objective did not converge. You might want to increase the number of iterations. Duality gap: 658.7587301880579, tolerance: 2.947695024691358\n",
      "  model = cd_fast.enet_coordinate_descent_gram(\n",
      "c:\\anaconda3\\Lib\\site-packages\\sklearn\\linear_model\\_coordinate_descent.py:614: ConvergenceWarning: Objective did not converge. You might want to increase the number of iterations. Duality gap: 760.0448473173219, tolerance: 2.947695024691358\n",
      "  model = cd_fast.enet_coordinate_descent_gram(\n",
      "c:\\anaconda3\\Lib\\site-packages\\sklearn\\linear_model\\_coordinate_descent.py:614: ConvergenceWarning: Objective did not converge. You might want to increase the number of iterations. Duality gap: 767.9086952603395, tolerance: 2.947695024691358\n",
      "  model = cd_fast.enet_coordinate_descent_gram(\n",
      "c:\\anaconda3\\Lib\\site-packages\\sklearn\\linear_model\\_coordinate_descent.py:614: ConvergenceWarning: Objective did not converge. You might want to increase the number of iterations. Duality gap: 8.95533352701841, tolerance: 2.882109046439629\n",
      "  model = cd_fast.enet_coordinate_descent_gram(\n",
      "c:\\anaconda3\\Lib\\site-packages\\sklearn\\linear_model\\_coordinate_descent.py:614: ConvergenceWarning: Objective did not converge. You might want to increase the number of iterations. Duality gap: 716.2153406333613, tolerance: 2.882109046439629\n",
      "  model = cd_fast.enet_coordinate_descent_gram(\n",
      "c:\\anaconda3\\Lib\\site-packages\\sklearn\\linear_model\\_coordinate_descent.py:614: ConvergenceWarning: Objective did not converge. You might want to increase the number of iterations. Duality gap: 765.732143679607, tolerance: 2.882109046439629\n",
      "  model = cd_fast.enet_coordinate_descent_gram(\n",
      "c:\\anaconda3\\Lib\\site-packages\\sklearn\\linear_model\\_coordinate_descent.py:614: ConvergenceWarning: Objective did not converge. You might want to increase the number of iterations. Duality gap: 748.755313905064, tolerance: 2.882109046439629\n",
      "  model = cd_fast.enet_coordinate_descent_gram(\n",
      "c:\\anaconda3\\Lib\\site-packages\\sklearn\\linear_model\\_coordinate_descent.py:614: ConvergenceWarning: Objective did not converge. You might want to increase the number of iterations. Duality gap: 8.203302607409114, tolerance: 2.764448730650155\n",
      "  model = cd_fast.enet_coordinate_descent_gram(\n",
      "c:\\anaconda3\\Lib\\site-packages\\sklearn\\linear_model\\_coordinate_descent.py:614: ConvergenceWarning: Objective did not converge. You might want to increase the number of iterations. Duality gap: 765.2818580247792, tolerance: 2.764448730650155\n",
      "  model = cd_fast.enet_coordinate_descent_gram(\n",
      "c:\\anaconda3\\Lib\\site-packages\\sklearn\\linear_model\\_coordinate_descent.py:614: ConvergenceWarning: Objective did not converge. You might want to increase the number of iterations. Duality gap: 767.0234647837252, tolerance: 2.764448730650155\n",
      "  model = cd_fast.enet_coordinate_descent_gram(\n",
      "c:\\anaconda3\\Lib\\site-packages\\sklearn\\linear_model\\_coordinate_descent.py:614: ConvergenceWarning: Objective did not converge. You might want to increase the number of iterations. Duality gap: 774.3707350930408, tolerance: 2.764448730650155\n",
      "  model = cd_fast.enet_coordinate_descent_gram(\n",
      "c:\\anaconda3\\Lib\\site-packages\\sklearn\\linear_model\\_coordinate_descent.py:614: ConvergenceWarning: Objective did not converge. You might want to increase the number of iterations. Duality gap: 846.334378645148, tolerance: 2.7104949226006196\n",
      "  model = cd_fast.enet_coordinate_descent_gram(\n",
      "c:\\anaconda3\\Lib\\site-packages\\sklearn\\linear_model\\_coordinate_descent.py:614: ConvergenceWarning: Objective did not converge. You might want to increase the number of iterations. Duality gap: 887.336115528415, tolerance: 2.7104949226006196\n",
      "  model = cd_fast.enet_coordinate_descent_gram(\n",
      "c:\\anaconda3\\Lib\\site-packages\\sklearn\\linear_model\\_coordinate_descent.py:614: ConvergenceWarning: Objective did not converge. You might want to increase the number of iterations. Duality gap: 864.4642771179928, tolerance: 2.7104949226006196\n",
      "  model = cd_fast.enet_coordinate_descent_gram(\n",
      "c:\\anaconda3\\Lib\\site-packages\\sklearn\\linear_model\\_coordinate_descent.py:614: ConvergenceWarning: Objective did not converge. You might want to increase the number of iterations. Duality gap: 447.4222568259361, tolerance: 2.729756922600619\n",
      "  model = cd_fast.enet_coordinate_descent_gram(\n",
      "c:\\anaconda3\\Lib\\site-packages\\sklearn\\linear_model\\_coordinate_descent.py:614: ConvergenceWarning: Objective did not converge. You might want to increase the number of iterations. Duality gap: 775.0961646316285, tolerance: 2.729756922600619\n",
      "  model = cd_fast.enet_coordinate_descent_gram(\n",
      "c:\\anaconda3\\Lib\\site-packages\\sklearn\\linear_model\\_coordinate_descent.py:614: ConvergenceWarning: Objective did not converge. You might want to increase the number of iterations. Duality gap: 784.352181086749, tolerance: 2.729756922600619\n",
      "  model = cd_fast.enet_coordinate_descent_gram(\n",
      "c:\\anaconda3\\Lib\\site-packages\\sklearn\\linear_model\\_coordinate_descent.py:614: ConvergenceWarning: Objective did not converge. You might want to increase the number of iterations. Duality gap: 15.976478761996532, tolerance: 2.947695024691358\n",
      "  model = cd_fast.enet_coordinate_descent_gram(\n",
      "c:\\anaconda3\\Lib\\site-packages\\sklearn\\linear_model\\_coordinate_descent.py:614: ConvergenceWarning: Objective did not converge. You might want to increase the number of iterations. Duality gap: 464.0118131746508, tolerance: 2.947695024691358\n",
      "  model = cd_fast.enet_coordinate_descent_gram(\n",
      "c:\\anaconda3\\Lib\\site-packages\\sklearn\\linear_model\\_coordinate_descent.py:614: ConvergenceWarning: Objective did not converge. You might want to increase the number of iterations. Duality gap: 789.583757603933, tolerance: 2.947695024691358\n",
      "  model = cd_fast.enet_coordinate_descent_gram(\n",
      "c:\\anaconda3\\Lib\\site-packages\\sklearn\\linear_model\\_coordinate_descent.py:614: ConvergenceWarning: Objective did not converge. You might want to increase the number of iterations. Duality gap: 808.6471231255828, tolerance: 2.947695024691358\n",
      "  model = cd_fast.enet_coordinate_descent_gram(\n",
      "c:\\anaconda3\\Lib\\site-packages\\sklearn\\linear_model\\_coordinate_descent.py:628: ConvergenceWarning: Objective did not converge. You might want to increase the number of iterations, check the scale of the features or consider increasing regularisation. Duality gap: 9.658e+02, tolerance: 3.510e+00\n",
      "  model = cd_fast.enet_coordinate_descent(\n"
     ]
    },
    {
     "name": "stdout",
     "output_type": "stream",
     "text": [
      "r2_ridge_standart_scaler_poly_cv: 0.8187344606117395\n",
      "r2_ridge_min_max_scaler_poly_cv: 0.8501402125962156\n",
      "r2_lasso_standart_scaler_poly_cv: 0.8128138856150267\n",
      "r2_lasso_min_max_scaler_poly_cv: 0.8397022991682292\n"
     ]
    }
   ],
   "source": [
    "# Прогоняем через Polynomial\n",
    "\n",
    "poly = PolynomialFeatures(2)\n",
    "\n",
    "x_train_sscaled_poly = poly.fit_transform(x_train_scaled)\n",
    "x_test_sscaled_poly = poly.fit_transform(x_test_scaled)\n",
    "\n",
    "x_train_sscaled_m_poly = poly.fit_transform(x_train_scaled_m)\n",
    "x_test_sscaled_m_poly = poly.fit_transform(x_test_scaled_m)\n",
    "\n",
    "# r2_ridge_standart_scaler_poly_cv\n",
    "R_SS_CV_poly = RidgeCV(alphas=[0.00001, 0.0001, 0.001, 0.01, 0.1, 1, 10, 100, 1000, 10000]).fit(x_train_sscaled_poly, y_train)\n",
    "y_pred_r_ss_cv_poly = R_SS_CV_poly.predict(x_test_sscaled_poly)\n",
    "r2_ridge_standart_scaler_poly_cv = r2_score(y_test, y_pred_r_ss_cv_poly)\n",
    "\n",
    "# r2_ridge_min_max_scaler_poly_cv\n",
    "R_MM_CV_poly = RidgeCV(alphas=[0.00001, 0.0001, 0.001, 0.01, 0.1, 1, 10, 100, 1000, 10000]).fit(x_train_sscaled_m_poly, y_train)\n",
    "y_pred_r_mm_cv_poly = R_MM_CV_poly.predict(x_test_sscaled_m_poly)\n",
    "r2_ridge_min_max_scaler_poly_cv = r2_score(y_test, y_pred_r_mm_cv_poly)\n",
    "\n",
    "# r2_lasso_standart_scaler_poly_cv\n",
    "L_SS_CV_poly = LassoCV(alphas=[0.00001, 0.0001, 0.001, 0.01, 0.1, 1, 10, 100, 1000, 10000], random_state=RANDOM_STATE).fit(x_train_sscaled_poly, y_train)\n",
    "y_pred_l_ss_cv_poly = L_SS_CV_poly.predict(x_test_sscaled_poly)\n",
    "r2_lasso_standart_scaler_poly_cv = r2_score(y_test, y_pred_l_ss_cv_poly)\n",
    "\n",
    "# r2_lasso_min_max_scaler_poly_cv\n",
    "L_MM_CV_poly = LassoCV(alphas=[0.00001, 0.0001, 0.001, 0.01, 0.1, 1, 10, 100, 1000, 10000], random_state=RANDOM_STATE).fit(x_train_sscaled_m_poly, y_train)\n",
    "y_pred_l_mm_cv_poly = L_MM_CV_poly.predict(x_test_sscaled_m_poly)\n",
    "r2_lasso_min_max_scaler_poly_cv = r2_score(y_test, y_pred_l_mm_cv_poly)\n",
    "\n",
    "print('r2_ridge_standart_scaler_poly_cv:', r2_ridge_standart_scaler_poly_cv)\n",
    "print('r2_ridge_min_max_scaler_poly_cv:', r2_ridge_min_max_scaler_poly_cv)\n",
    "print('r2_lasso_standart_scaler_poly_cv:', r2_lasso_standart_scaler_poly_cv)\n",
    "print('r2_lasso_min_max_scaler_poly_cv:', r2_lasso_min_max_scaler_poly_cv)\n",
    "\n",
    "\n",
    "# r2_ridge_standart_scaler_poly_cv = 0\n",
    "# r2_ridge_min_max_scaler_poly_cv = 0\n",
    "# r2_lasso_standart_scaler_poly_cv = 0\n",
    "# r2_lasso_min_max_scaler_poly_cv = 0\n",
    "results_regression.loc[19] = ['Ridge_StandardScaler_Poly_CV', 'task7', r2_ridge_standart_scaler_poly_cv]\n",
    "results_regression.loc[20] = ['Ridge_MinMaxScaler_Poly_CV', 'task7', r2_ridge_min_max_scaler_poly_cv]\n",
    "results_regression.loc[21] = ['Lasso_StandardScaler_Poly_CV', 'task7', r2_lasso_standart_scaler_poly_cv]\n",
    "results_regression.loc[22] = ['Lasso_MinMaxScaler_Poly_CV', 'task7', r2_lasso_min_max_scaler_poly_cv]"
   ]
  },
  {
   "cell_type": "code",
   "execution_count": 19,
   "metadata": {},
   "outputs": [
    {
     "name": "stdout",
     "output_type": "stream",
     "text": [
      "Лучший результат на данном этапе у \"Ridge_MinMaxScaler_Poly_CV\": R2 = 0.8501402125962156\n",
      "По сравнению с лучшим результатом на предыдущих этапах (\"Ridge_MinMaxScaler_Poly\" R2 = 0.8298862467502752) R2 улучшился на 0.020253965845940414\n"
     ]
    }
   ],
   "source": [
    "print(f'Лучший результат на данном этапе у \"Ridge_MinMaxScaler_Poly_CV\": R2 = {r2_ridge_min_max_scaler_poly_cv}') \n",
    "print(f'По сравнению с лучшим результатом на предыдущих этапах (\"Ridge_MinMaxScaler_Poly\" R2 = {r2_ridge_min_max_scaler_poly}) R2 улучшился на {r2_ridge_min_max_scaler_poly_cv - r2_ridge_min_max_scaler_poly}')"
   ]
  },
  {
   "cell_type": "markdown",
   "metadata": {},
   "source": [
    "8. Подберите наилучшую модель (используйте Pipeline, GridSearchSCV) подбирая тип регуляризации (L1,L2), коэффициент регуляризации, метод масштабирования и степень полинома в PolynomialFeatures. Выведите итоговые параметры и результат R2."
   ]
  },
  {
   "cell_type": "code",
   "execution_count": 20,
   "metadata": {},
   "outputs": [
    {
     "data": {
      "text/html": [
       "<div>\n",
       "<style scoped>\n",
       "    .dataframe tbody tr th:only-of-type {\n",
       "        vertical-align: middle;\n",
       "    }\n",
       "\n",
       "    .dataframe tbody tr th {\n",
       "        vertical-align: top;\n",
       "    }\n",
       "\n",
       "    .dataframe thead th {\n",
       "        text-align: right;\n",
       "    }\n",
       "</style>\n",
       "<table border=\"1\" class=\"dataframe\">\n",
       "  <thead>\n",
       "    <tr style=\"text-align: right;\">\n",
       "      <th></th>\n",
       "      <th>model</th>\n",
       "      <th>task</th>\n",
       "      <th>R2</th>\n",
       "    </tr>\n",
       "  </thead>\n",
       "  <tbody>\n",
       "    <tr>\n",
       "      <th>20</th>\n",
       "      <td>Ridge_MinMaxScaler_Poly_CV</td>\n",
       "      <td>task7</td>\n",
       "      <td>0.85014</td>\n",
       "    </tr>\n",
       "  </tbody>\n",
       "</table>\n",
       "</div>"
      ],
      "text/plain": [
       "                         model   task       R2\n",
       "20  Ridge_MinMaxScaler_Poly_CV  task7  0.85014"
      ]
     },
     "execution_count": 20,
     "metadata": {},
     "output_type": "execute_result"
    }
   ],
   "source": [
    "# Я так понял, лучшую модель мы выбирали в задачах выше. Чем ближе R2 к единице, тем лучше модель.\n",
    "\n",
    "# best_params = {}\n",
    "# print('Параметры лучшей модели:\\n', best_params)\n",
    "# r2_best_model = 0\n",
    "# results_regression.loc[23] = ['Best_Model', 'task8', r2_best_model]\n",
    "\n",
    "results_regression.sort_values(by='R2', ascending = False).head(1)"
   ]
  },
  {
   "cell_type": "markdown",
   "metadata": {},
   "source": [
    "Вывод: лучшая модель - Ridge_MinMaxScaler_Poly_CV"
   ]
  },
  {
   "cell_type": "code",
   "execution_count": 21,
   "metadata": {},
   "outputs": [
    {
     "data": {
      "text/html": [
       "<div>\n",
       "<style scoped>\n",
       "    .dataframe tbody tr th:only-of-type {\n",
       "        vertical-align: middle;\n",
       "    }\n",
       "\n",
       "    .dataframe tbody tr th {\n",
       "        vertical-align: top;\n",
       "    }\n",
       "\n",
       "    .dataframe thead th {\n",
       "        text-align: right;\n",
       "    }\n",
       "</style>\n",
       "<table border=\"1\" class=\"dataframe\">\n",
       "  <thead>\n",
       "    <tr style=\"text-align: right;\">\n",
       "      <th></th>\n",
       "      <th>model</th>\n",
       "      <th>task</th>\n",
       "      <th>R2</th>\n",
       "    </tr>\n",
       "  </thead>\n",
       "  <tbody>\n",
       "    <tr>\n",
       "      <th>0</th>\n",
       "      <td>LR</td>\n",
       "      <td>task2</td>\n",
       "      <td>0.668483</td>\n",
       "    </tr>\n",
       "    <tr>\n",
       "      <th>1</th>\n",
       "      <td>Ridge</td>\n",
       "      <td>task2</td>\n",
       "      <td>0.665961</td>\n",
       "    </tr>\n",
       "    <tr>\n",
       "      <th>2</th>\n",
       "      <td>Lasso</td>\n",
       "      <td>task2</td>\n",
       "      <td>0.666869</td>\n",
       "    </tr>\n",
       "    <tr>\n",
       "      <th>3</th>\n",
       "      <td>Ridge_GridSearchCV</td>\n",
       "      <td>task3</td>\n",
       "      <td>0.668483</td>\n",
       "    </tr>\n",
       "    <tr>\n",
       "      <th>4</th>\n",
       "      <td>RidgeCV</td>\n",
       "      <td>task3</td>\n",
       "      <td>0.702446</td>\n",
       "    </tr>\n",
       "    <tr>\n",
       "      <th>5</th>\n",
       "      <td>Lasso_GridSearchCV</td>\n",
       "      <td>task3</td>\n",
       "      <td>0.668483</td>\n",
       "    </tr>\n",
       "    <tr>\n",
       "      <th>6</th>\n",
       "      <td>LassoCV</td>\n",
       "      <td>task3</td>\n",
       "      <td>0.688309</td>\n",
       "    </tr>\n",
       "    <tr>\n",
       "      <th>7</th>\n",
       "      <td>Ridge_StandardScaler</td>\n",
       "      <td>task4</td>\n",
       "      <td>0.668190</td>\n",
       "    </tr>\n",
       "    <tr>\n",
       "      <th>8</th>\n",
       "      <td>Ridge_MinMaxScaler</td>\n",
       "      <td>task4</td>\n",
       "      <td>0.676221</td>\n",
       "    </tr>\n",
       "    <tr>\n",
       "      <th>9</th>\n",
       "      <td>Lasso_StandardScaler</td>\n",
       "      <td>task4</td>\n",
       "      <td>0.624045</td>\n",
       "    </tr>\n",
       "    <tr>\n",
       "      <th>10</th>\n",
       "      <td>Lasso_MinMaxScaler</td>\n",
       "      <td>task4</td>\n",
       "      <td>0.257392</td>\n",
       "    </tr>\n",
       "    <tr>\n",
       "      <th>11</th>\n",
       "      <td>Ridge_StandardScaler_CV</td>\n",
       "      <td>task5</td>\n",
       "      <td>0.665731</td>\n",
       "    </tr>\n",
       "    <tr>\n",
       "      <th>12</th>\n",
       "      <td>Ridge_MinMaxScaler_CV</td>\n",
       "      <td>task5</td>\n",
       "      <td>0.669765</td>\n",
       "    </tr>\n",
       "    <tr>\n",
       "      <th>13</th>\n",
       "      <td>Lasso_StandardScaler_CV</td>\n",
       "      <td>task5</td>\n",
       "      <td>0.668482</td>\n",
       "    </tr>\n",
       "    <tr>\n",
       "      <th>14</th>\n",
       "      <td>Lasso_MinMaxScaler_CV</td>\n",
       "      <td>task5</td>\n",
       "      <td>0.668484</td>\n",
       "    </tr>\n",
       "    <tr>\n",
       "      <th>15</th>\n",
       "      <td>Ridge_StandardScaler_Poly</td>\n",
       "      <td>task6</td>\n",
       "      <td>0.817136</td>\n",
       "    </tr>\n",
       "    <tr>\n",
       "      <th>16</th>\n",
       "      <td>Ridge_MinMaxScaler_Poly</td>\n",
       "      <td>task6</td>\n",
       "      <td>0.829886</td>\n",
       "    </tr>\n",
       "    <tr>\n",
       "      <th>17</th>\n",
       "      <td>Lasso_StandardScaler_Poly</td>\n",
       "      <td>task6</td>\n",
       "      <td>0.732274</td>\n",
       "    </tr>\n",
       "    <tr>\n",
       "      <th>18</th>\n",
       "      <td>Lasso_MinMaxScaler_Poly</td>\n",
       "      <td>task6</td>\n",
       "      <td>0.261126</td>\n",
       "    </tr>\n",
       "    <tr>\n",
       "      <th>19</th>\n",
       "      <td>Ridge_StandardScaler_Poly_CV</td>\n",
       "      <td>task7</td>\n",
       "      <td>0.818734</td>\n",
       "    </tr>\n",
       "    <tr>\n",
       "      <th>20</th>\n",
       "      <td>Ridge_MinMaxScaler_Poly_CV</td>\n",
       "      <td>task7</td>\n",
       "      <td>0.850140</td>\n",
       "    </tr>\n",
       "    <tr>\n",
       "      <th>21</th>\n",
       "      <td>Lasso_StandardScaler_Poly_CV</td>\n",
       "      <td>task7</td>\n",
       "      <td>0.812814</td>\n",
       "    </tr>\n",
       "    <tr>\n",
       "      <th>22</th>\n",
       "      <td>Lasso_MinMaxScaler_Poly_CV</td>\n",
       "      <td>task7</td>\n",
       "      <td>0.839702</td>\n",
       "    </tr>\n",
       "  </tbody>\n",
       "</table>\n",
       "</div>"
      ],
      "text/plain": [
       "                           model   task        R2\n",
       "0                             LR  task2  0.668483\n",
       "1                          Ridge  task2  0.665961\n",
       "2                          Lasso  task2  0.666869\n",
       "3             Ridge_GridSearchCV  task3  0.668483\n",
       "4                        RidgeCV  task3  0.702446\n",
       "5             Lasso_GridSearchCV  task3  0.668483\n",
       "6                        LassoCV  task3  0.688309\n",
       "7           Ridge_StandardScaler  task4  0.668190\n",
       "8             Ridge_MinMaxScaler  task4  0.676221\n",
       "9           Lasso_StandardScaler  task4  0.624045\n",
       "10            Lasso_MinMaxScaler  task4  0.257392\n",
       "11       Ridge_StandardScaler_CV  task5  0.665731\n",
       "12         Ridge_MinMaxScaler_CV  task5  0.669765\n",
       "13       Lasso_StandardScaler_CV  task5  0.668482\n",
       "14         Lasso_MinMaxScaler_CV  task5  0.668484\n",
       "15     Ridge_StandardScaler_Poly  task6  0.817136\n",
       "16       Ridge_MinMaxScaler_Poly  task6  0.829886\n",
       "17     Lasso_StandardScaler_Poly  task6  0.732274\n",
       "18       Lasso_MinMaxScaler_Poly  task6  0.261126\n",
       "19  Ridge_StandardScaler_Poly_CV  task7  0.818734\n",
       "20    Ridge_MinMaxScaler_Poly_CV  task7  0.850140\n",
       "21  Lasso_StandardScaler_Poly_CV  task7  0.812814\n",
       "22    Lasso_MinMaxScaler_Poly_CV  task7  0.839702"
      ]
     },
     "execution_count": 21,
     "metadata": {},
     "output_type": "execute_result"
    }
   ],
   "source": [
    "results_regression"
   ]
  },
  {
   "cell_type": "markdown",
   "metadata": {},
   "source": [
    "# 2 Часть (сделана не полностью)"
   ]
  },
  {
   "cell_type": "markdown",
   "metadata": {},
   "source": [
    "http://archive.ics.uci.edu/ml/datasets/Adult"
   ]
  },
  {
   "cell_type": "code",
   "execution_count": 22,
   "metadata": {},
   "outputs": [
    {
     "data": {
      "text/html": [
       "<div>\n",
       "<style scoped>\n",
       "    .dataframe tbody tr th:only-of-type {\n",
       "        vertical-align: middle;\n",
       "    }\n",
       "\n",
       "    .dataframe tbody tr th {\n",
       "        vertical-align: top;\n",
       "    }\n",
       "\n",
       "    .dataframe thead th {\n",
       "        text-align: right;\n",
       "    }\n",
       "</style>\n",
       "<table border=\"1\" class=\"dataframe\">\n",
       "  <thead>\n",
       "    <tr style=\"text-align: right;\">\n",
       "      <th></th>\n",
       "      <th>age</th>\n",
       "      <th>workclass</th>\n",
       "      <th>fnlwgt</th>\n",
       "      <th>education</th>\n",
       "      <th>education-num</th>\n",
       "      <th>marital-status</th>\n",
       "      <th>occupation</th>\n",
       "      <th>relationship</th>\n",
       "      <th>race</th>\n",
       "      <th>sex</th>\n",
       "      <th>capital-gain</th>\n",
       "      <th>capital-loss</th>\n",
       "      <th>hours-per-week</th>\n",
       "      <th>native-country</th>\n",
       "      <th>class</th>\n",
       "    </tr>\n",
       "  </thead>\n",
       "  <tbody>\n",
       "    <tr>\n",
       "      <th>0</th>\n",
       "      <td>39</td>\n",
       "      <td>State-gov</td>\n",
       "      <td>77516</td>\n",
       "      <td>Bachelors</td>\n",
       "      <td>13</td>\n",
       "      <td>Never-married</td>\n",
       "      <td>Adm-clerical</td>\n",
       "      <td>Not-in-family</td>\n",
       "      <td>White</td>\n",
       "      <td>Male</td>\n",
       "      <td>2174</td>\n",
       "      <td>0</td>\n",
       "      <td>40</td>\n",
       "      <td>United-States</td>\n",
       "      <td>&lt;=50K</td>\n",
       "    </tr>\n",
       "    <tr>\n",
       "      <th>1</th>\n",
       "      <td>50</td>\n",
       "      <td>Self-emp-not-inc</td>\n",
       "      <td>83311</td>\n",
       "      <td>Bachelors</td>\n",
       "      <td>13</td>\n",
       "      <td>Married-civ-spouse</td>\n",
       "      <td>Exec-managerial</td>\n",
       "      <td>Husband</td>\n",
       "      <td>White</td>\n",
       "      <td>Male</td>\n",
       "      <td>0</td>\n",
       "      <td>0</td>\n",
       "      <td>13</td>\n",
       "      <td>United-States</td>\n",
       "      <td>&lt;=50K</td>\n",
       "    </tr>\n",
       "    <tr>\n",
       "      <th>2</th>\n",
       "      <td>38</td>\n",
       "      <td>Private</td>\n",
       "      <td>215646</td>\n",
       "      <td>HS-grad</td>\n",
       "      <td>9</td>\n",
       "      <td>Divorced</td>\n",
       "      <td>Handlers-cleaners</td>\n",
       "      <td>Not-in-family</td>\n",
       "      <td>White</td>\n",
       "      <td>Male</td>\n",
       "      <td>0</td>\n",
       "      <td>0</td>\n",
       "      <td>40</td>\n",
       "      <td>United-States</td>\n",
       "      <td>&lt;=50K</td>\n",
       "    </tr>\n",
       "    <tr>\n",
       "      <th>3</th>\n",
       "      <td>53</td>\n",
       "      <td>Private</td>\n",
       "      <td>234721</td>\n",
       "      <td>11th</td>\n",
       "      <td>7</td>\n",
       "      <td>Married-civ-spouse</td>\n",
       "      <td>Handlers-cleaners</td>\n",
       "      <td>Husband</td>\n",
       "      <td>Black</td>\n",
       "      <td>Male</td>\n",
       "      <td>0</td>\n",
       "      <td>0</td>\n",
       "      <td>40</td>\n",
       "      <td>United-States</td>\n",
       "      <td>&lt;=50K</td>\n",
       "    </tr>\n",
       "    <tr>\n",
       "      <th>4</th>\n",
       "      <td>28</td>\n",
       "      <td>Private</td>\n",
       "      <td>338409</td>\n",
       "      <td>Bachelors</td>\n",
       "      <td>13</td>\n",
       "      <td>Married-civ-spouse</td>\n",
       "      <td>Prof-specialty</td>\n",
       "      <td>Wife</td>\n",
       "      <td>Black</td>\n",
       "      <td>Female</td>\n",
       "      <td>0</td>\n",
       "      <td>0</td>\n",
       "      <td>40</td>\n",
       "      <td>Cuba</td>\n",
       "      <td>&lt;=50K</td>\n",
       "    </tr>\n",
       "  </tbody>\n",
       "</table>\n",
       "</div>"
      ],
      "text/plain": [
       "   age         workclass  fnlwgt  education  education-num  \\\n",
       "0   39         State-gov   77516  Bachelors             13   \n",
       "1   50  Self-emp-not-inc   83311  Bachelors             13   \n",
       "2   38           Private  215646    HS-grad              9   \n",
       "3   53           Private  234721       11th              7   \n",
       "4   28           Private  338409  Bachelors             13   \n",
       "\n",
       "       marital-status         occupation   relationship   race     sex  \\\n",
       "0       Never-married       Adm-clerical  Not-in-family  White    Male   \n",
       "1  Married-civ-spouse    Exec-managerial        Husband  White    Male   \n",
       "2            Divorced  Handlers-cleaners  Not-in-family  White    Male   \n",
       "3  Married-civ-spouse  Handlers-cleaners        Husband  Black    Male   \n",
       "4  Married-civ-spouse     Prof-specialty           Wife  Black  Female   \n",
       "\n",
       "   capital-gain  capital-loss  hours-per-week native-country  class  \n",
       "0          2174             0              40  United-States  <=50K  \n",
       "1             0             0              13  United-States  <=50K  \n",
       "2             0             0              40  United-States  <=50K  \n",
       "3             0             0              40  United-States  <=50K  \n",
       "4             0             0              40           Cuba  <=50K  "
      ]
     },
     "execution_count": 22,
     "metadata": {},
     "output_type": "execute_result"
    }
   ],
   "source": [
    "data = pd.read_csv('adult.csv')\n",
    "data.head()"
   ]
  },
  {
   "cell_type": "markdown",
   "metadata": {},
   "source": [
    "9. Разделите выборку на признаки и целевую переменную(колонка class). Замените целевую переменную на числовые значения ('<=50K' - 1, '>50K' - 0)."
   ]
  },
  {
   "cell_type": "code",
   "execution_count": 23,
   "metadata": {},
   "outputs": [
    {
     "data": {
      "text/html": [
       "<div>\n",
       "<style scoped>\n",
       "    .dataframe tbody tr th:only-of-type {\n",
       "        vertical-align: middle;\n",
       "    }\n",
       "\n",
       "    .dataframe tbody tr th {\n",
       "        vertical-align: top;\n",
       "    }\n",
       "\n",
       "    .dataframe thead th {\n",
       "        text-align: right;\n",
       "    }\n",
       "</style>\n",
       "<table border=\"1\" class=\"dataframe\">\n",
       "  <thead>\n",
       "    <tr style=\"text-align: right;\">\n",
       "      <th></th>\n",
       "      <th>age</th>\n",
       "      <th>workclass</th>\n",
       "      <th>fnlwgt</th>\n",
       "      <th>education</th>\n",
       "      <th>education-num</th>\n",
       "      <th>marital-status</th>\n",
       "      <th>occupation</th>\n",
       "      <th>relationship</th>\n",
       "      <th>race</th>\n",
       "      <th>sex</th>\n",
       "      <th>capital-gain</th>\n",
       "      <th>capital-loss</th>\n",
       "      <th>hours-per-week</th>\n",
       "      <th>native-country</th>\n",
       "      <th>class</th>\n",
       "    </tr>\n",
       "  </thead>\n",
       "  <tbody>\n",
       "    <tr>\n",
       "      <th>0</th>\n",
       "      <td>39</td>\n",
       "      <td>State-gov</td>\n",
       "      <td>77516</td>\n",
       "      <td>Bachelors</td>\n",
       "      <td>13</td>\n",
       "      <td>Never-married</td>\n",
       "      <td>Adm-clerical</td>\n",
       "      <td>Not-in-family</td>\n",
       "      <td>White</td>\n",
       "      <td>Male</td>\n",
       "      <td>2174</td>\n",
       "      <td>0</td>\n",
       "      <td>40</td>\n",
       "      <td>United-States</td>\n",
       "      <td>1</td>\n",
       "    </tr>\n",
       "    <tr>\n",
       "      <th>1</th>\n",
       "      <td>50</td>\n",
       "      <td>Self-emp-not-inc</td>\n",
       "      <td>83311</td>\n",
       "      <td>Bachelors</td>\n",
       "      <td>13</td>\n",
       "      <td>Married-civ-spouse</td>\n",
       "      <td>Exec-managerial</td>\n",
       "      <td>Husband</td>\n",
       "      <td>White</td>\n",
       "      <td>Male</td>\n",
       "      <td>0</td>\n",
       "      <td>0</td>\n",
       "      <td>13</td>\n",
       "      <td>United-States</td>\n",
       "      <td>1</td>\n",
       "    </tr>\n",
       "    <tr>\n",
       "      <th>2</th>\n",
       "      <td>38</td>\n",
       "      <td>Private</td>\n",
       "      <td>215646</td>\n",
       "      <td>HS-grad</td>\n",
       "      <td>9</td>\n",
       "      <td>Divorced</td>\n",
       "      <td>Handlers-cleaners</td>\n",
       "      <td>Not-in-family</td>\n",
       "      <td>White</td>\n",
       "      <td>Male</td>\n",
       "      <td>0</td>\n",
       "      <td>0</td>\n",
       "      <td>40</td>\n",
       "      <td>United-States</td>\n",
       "      <td>1</td>\n",
       "    </tr>\n",
       "    <tr>\n",
       "      <th>3</th>\n",
       "      <td>53</td>\n",
       "      <td>Private</td>\n",
       "      <td>234721</td>\n",
       "      <td>11th</td>\n",
       "      <td>7</td>\n",
       "      <td>Married-civ-spouse</td>\n",
       "      <td>Handlers-cleaners</td>\n",
       "      <td>Husband</td>\n",
       "      <td>Black</td>\n",
       "      <td>Male</td>\n",
       "      <td>0</td>\n",
       "      <td>0</td>\n",
       "      <td>40</td>\n",
       "      <td>United-States</td>\n",
       "      <td>1</td>\n",
       "    </tr>\n",
       "    <tr>\n",
       "      <th>4</th>\n",
       "      <td>28</td>\n",
       "      <td>Private</td>\n",
       "      <td>338409</td>\n",
       "      <td>Bachelors</td>\n",
       "      <td>13</td>\n",
       "      <td>Married-civ-spouse</td>\n",
       "      <td>Prof-specialty</td>\n",
       "      <td>Wife</td>\n",
       "      <td>Black</td>\n",
       "      <td>Female</td>\n",
       "      <td>0</td>\n",
       "      <td>0</td>\n",
       "      <td>40</td>\n",
       "      <td>Cuba</td>\n",
       "      <td>1</td>\n",
       "    </tr>\n",
       "  </tbody>\n",
       "</table>\n",
       "</div>"
      ],
      "text/plain": [
       "   age         workclass  fnlwgt  education  education-num  \\\n",
       "0   39         State-gov   77516  Bachelors             13   \n",
       "1   50  Self-emp-not-inc   83311  Bachelors             13   \n",
       "2   38           Private  215646    HS-grad              9   \n",
       "3   53           Private  234721       11th              7   \n",
       "4   28           Private  338409  Bachelors             13   \n",
       "\n",
       "       marital-status         occupation   relationship   race     sex  \\\n",
       "0       Never-married       Adm-clerical  Not-in-family  White    Male   \n",
       "1  Married-civ-spouse    Exec-managerial        Husband  White    Male   \n",
       "2            Divorced  Handlers-cleaners  Not-in-family  White    Male   \n",
       "3  Married-civ-spouse  Handlers-cleaners        Husband  Black    Male   \n",
       "4  Married-civ-spouse     Prof-specialty           Wife  Black  Female   \n",
       "\n",
       "   capital-gain  capital-loss  hours-per-week native-country  class  \n",
       "0          2174             0              40  United-States      1  \n",
       "1             0             0              13  United-States      1  \n",
       "2             0             0              40  United-States      1  \n",
       "3             0             0              40  United-States      1  \n",
       "4             0             0              40           Cuba      1  "
      ]
     },
     "execution_count": 23,
     "metadata": {},
     "output_type": "execute_result"
    }
   ],
   "source": [
    "data.loc[data[\"class\"] == \"<=50K\", \"class\"] = 1\n",
    "data.loc[data[\"class\"] == \">50K\", \"class\"] = 0\n",
    "data[\"class\"] = pd.to_numeric(data[\"class\"])\n",
    "data.head()"
   ]
  },
  {
   "cell_type": "code",
   "execution_count": 24,
   "metadata": {},
   "outputs": [],
   "source": [
    "# data_features = data.drop('class',axis=1)\n",
    "# data_target = data['class']"
   ]
  },
  {
   "cell_type": "markdown",
   "metadata": {},
   "source": [
    "10. Посчитайте метрики accuracy и f1_score на предсказании только самого частого класса в целевой переменной."
   ]
  },
  {
   "cell_type": "code",
   "execution_count": 25,
   "metadata": {},
   "outputs": [
    {
     "name": "stdout",
     "output_type": "stream",
     "text": [
      "class\n",
      "1    37155\n",
      "0    11687\n",
      "Name: count, dtype: int64\n"
     ]
    }
   ],
   "source": [
    "print(data['class'].value_counts())"
   ]
  },
  {
   "cell_type": "markdown",
   "metadata": {},
   "source": [
    "### Расчет метрик\n",
    "Всего = 48 842\n",
    "\n",
    "Смоделируем:\n",
    "Класс 1 = 37 155\n",
    "Класс 0 = 11 687\n",
    "\n",
    "Предположим, что класс 1 это все верные ответы, а класс 0 это все не найденные обьекты моделью ответы.\n",
    "\n",
    "Если мы считаем только по самому частому классу, то получится:\n",
    "f1 мера\n",
    "\n",
    "precision\n",
    " TP = будем считать, что это 36 155 (действительное количество правильных ответов)\n",
    " FP = будем считать, что это 2 000 (это значение возьмем от класса 0 и предположим, что модель ошиблась, назвав этот набор\n",
    " данных тоже классом 1)\n",
    "\n",
    "recall\n",
    " FN = будем считать, что это 1 000 (это значение возьмем от класса 1 и предположим, что модель ошиблась, назвав этот набор\n",
    " данных классом 0)"
   ]
  },
  {
   "cell_type": "code",
   "execution_count": 26,
   "metadata": {},
   "outputs": [
    {
     "name": "stdout",
     "output_type": "stream",
     "text": [
      "acc_most_frequent: 0.7607182343065395\n",
      "----\n",
      "precision: 0.9475822303760975\n",
      "----\n",
      "recall: 0.973085721975508\n",
      "----\n",
      "f1_most_frequent: 0.9547643979057592\n"
     ]
    }
   ],
   "source": [
    "acc_most_frequent = 37155/48842\n",
    "print('acc_most_frequent:', acc_most_frequent)\n",
    "print('----')\n",
    "precision = 36155 / (36155+2000)\n",
    "print('precision:', precision)\n",
    "print('----')\n",
    "recall = 36155 / (36155+1000)\n",
    "print('recall:', recall)\n",
    "print('----')\n",
    "f1_most_frequent = 2 * (0.94 * 0.97) / (0.94 + 0.97)\n",
    "print('f1_most_frequent:', f1_most_frequent)\n",
    "\n",
    "# f1_most_frequent = 0\n",
    "# acc_most_frequent = 0\n",
    "results_classification.loc[0] = ['Most Frequent class', 'task10', f1_most_frequent, acc_most_frequent]"
   ]
  },
  {
   "cell_type": "markdown",
   "metadata": {},
   "source": [
    "11. Выясните, присутствуют ли в данных пропуски. Если присутствуют, заполните их самыми частыми значениями (испольуйте SimpleImputer)"
   ]
  },
  {
   "cell_type": "code",
   "execution_count": 27,
   "metadata": {},
   "outputs": [
    {
     "data": {
      "text/plain": [
       "age               0\n",
       "workclass         0\n",
       "fnlwgt            0\n",
       "education         0\n",
       "education-num     0\n",
       "marital-status    0\n",
       "occupation        0\n",
       "relationship      0\n",
       "race              0\n",
       "sex               0\n",
       "capital-gain      0\n",
       "capital-loss      0\n",
       "hours-per-week    0\n",
       "native-country    0\n",
       "class             0\n",
       "dtype: int64"
      ]
     },
     "execution_count": 27,
     "metadata": {},
     "output_type": "execute_result"
    }
   ],
   "source": [
    "data.isna().sum()"
   ]
  },
  {
   "cell_type": "markdown",
   "metadata": {},
   "source": [
    "Пропуски в данных отсутствуют"
   ]
  },
  {
   "cell_type": "markdown",
   "metadata": {},
   "source": [
    "12. Выберите колонки с числовыми и категориальными переменными (используя возможности pandas)."
   ]
  },
  {
   "cell_type": "code",
   "execution_count": 28,
   "metadata": {},
   "outputs": [
    {
     "data": {
      "text/plain": [
       "age                int64\n",
       "workclass         object\n",
       "fnlwgt             int64\n",
       "education         object\n",
       "education-num      int64\n",
       "marital-status    object\n",
       "occupation        object\n",
       "relationship      object\n",
       "race              object\n",
       "sex               object\n",
       "capital-gain       int64\n",
       "capital-loss       int64\n",
       "hours-per-week     int64\n",
       "native-country    object\n",
       "class              int64\n",
       "dtype: object"
      ]
     },
     "execution_count": 28,
     "metadata": {},
     "output_type": "execute_result"
    }
   ],
   "source": [
    "# tasks+=1\n",
    "\n",
    "data.dtypes"
   ]
  },
  {
   "cell_type": "markdown",
   "metadata": {},
   "source": [
    "age, fnlwgt, education-num, capital-gain, capital-loss, hours-per-week, class - числовые\n",
    "\n",
    "workclass, education, marital-status, occupation, relationship, race, sex, native-country - категориальные "
   ]
  },
  {
   "cell_type": "markdown",
   "metadata": {},
   "source": [
    "13. Создайте пайплайн по обработке числовых и категориальных значений колонок (используйте OneHotEncoder,MinMaxScaler) и посчитайте cross_val_score по алгоритмам LogisticRegression, KNeighborsClassifier, LinearSVC по метрикам accuracy и f1_score."
   ]
  },
  {
   "cell_type": "code",
   "execution_count": 1,
   "metadata": {},
   "outputs": [
    {
     "ename": "NameError",
     "evalue": "name 'LogisticRegression' is not defined",
     "output_type": "error",
     "traceback": [
      "\u001b[1;31m---------------------------------------------------------------------------\u001b[0m",
      "\u001b[1;31mNameError\u001b[0m                                 Traceback (most recent call last)",
      "Cell \u001b[1;32mIn[1], line 3\u001b[0m\n\u001b[0;32m      1\u001b[0m \u001b[38;5;66;03m# LogisticRegression\u001b[39;00m\n\u001b[1;32m----> 3\u001b[0m LR_1 \u001b[38;5;241m=\u001b[39m LogisticRegression(random_state\u001b[38;5;241m=\u001b[39m\u001b[38;5;241m0\u001b[39m)\u001b[38;5;241m.\u001b[39mfit(x2_train_scaled, y2_train)\n\u001b[0;32m      4\u001b[0m y2_pred_lr1 \u001b[38;5;241m=\u001b[39m LR_1\u001b[38;5;241m.\u001b[39mpredict(x2_test_scaled)\n\u001b[0;32m      6\u001b[0m acc_lr \u001b[38;5;241m=\u001b[39mcross_val_score(LR_1, x2_train_scaled, y2_train, cv\u001b[38;5;241m=\u001b[39m\u001b[38;5;241m3\u001b[39m, scoring\u001b[38;5;241m=\u001b[39m\u001b[38;5;124m'\u001b[39m\u001b[38;5;124maccuracy\u001b[39m\u001b[38;5;124m'\u001b[39m)\n",
      "\u001b[1;31mNameError\u001b[0m: name 'LogisticRegression' is not defined"
     ]
    }
   ],
   "source": [
    "f1_LR = 0\n",
    "acc_LR = 0\n",
    "f1_KNN = 0\n",
    "acc_KNN = 0\n",
    "f1_SVM = 0\n",
    "acc_SVM = 0\n",
    "results_classification.loc[1] = ['LogisticRegression', 'task13', f1_LR, acc_LR]\n",
    "results_classification.loc[2] = ['KNeighborsClassifier', 'task13', f1_KNN, acc_KNN]\n",
    "results_classification.loc[3] = ['LinearSVC', 'task13', f1_SVM, acc_SVM]"
   ]
  },
  {
   "cell_type": "markdown",
   "metadata": {},
   "source": [
    "14. Можно заметить что в данных присутствуют значения '?', замените их самыми частыми значениями, (испольуйте SimpleImputer). Посчитайте cross_val_score по алгоритмам LogisticRegression, KNeighborsClassifier, LinearSVC по метрикам accuracy и f1_score."
   ]
  },
  {
   "cell_type": "code",
   "execution_count": null,
   "metadata": {},
   "outputs": [],
   "source": [
    "\n",
    "\n",
    "### Ваш код ###\n",
    "\n",
    "f1_LR = 0\n",
    "acc_LR = 0\n",
    "f1_KNN = 0\n",
    "acc_KNN = 0\n",
    "f1_SVM = 0\n",
    "acc_SVM = 0\n",
    "results_classification.loc[4] = ['LogisticRegression_impute', 'task14', f1_LR, acc_LR]\n",
    "results_classification.loc[5] = ['KNeighborsClassifier_impute', 'task14', f1_KNN, acc_KNN]\n",
    "results_classification.loc[6] = ['LinearSVC_impute', 'task14', f1_SVM, acc_SVM]"
   ]
  },
  {
   "cell_type": "markdown",
   "metadata": {},
   "source": [
    "15. Посчитайте cross_val_score по тем же алгоритмам и метрикам, если просто удалить значения '?'."
   ]
  },
  {
   "cell_type": "code",
   "execution_count": null,
   "metadata": {},
   "outputs": [],
   "source": [
    "\n",
    "\n",
    "### Ваш код ###\n",
    "\n",
    "f1_LR_del_missings = 0\n",
    "acc_LR_del_missings = 0\n",
    "f1_KNN_del_missings = 0\n",
    "acc_KNN_del_missings = 0\n",
    "f1_SVM_del_missings = 0\n",
    "acc_SVM_del_missings = 0\n",
    "results_classification.loc[7] = ['LogisticRegression_delete_missings', 'task15', f1_LR_del_missings, acc_LR_del_missings]\n",
    "results_classification.loc[8] = ['KNeighborsClassifier_delete_missings', 'task15', f1_KNN_del_missings, acc_KNN_del_missings]\n",
    "results_classification.loc[9] = ['LinearSVC_delete_missings', 'task15', f1_SVM_del_missings, acc_SVM_del_missings]"
   ]
  },
  {
   "cell_type": "markdown",
   "metadata": {},
   "source": [
    " 16. Посчитайте cross_val_score для RandomForestClassifier,GradientBoostingClassifier на данных с замененными значениями '?' на самые частые значения."
   ]
  },
  {
   "cell_type": "code",
   "execution_count": null,
   "metadata": {},
   "outputs": [],
   "source": [
    "\n",
    "\n",
    "### Ваш код ###\n",
    "\n",
    "f1_RF = 0\n",
    "acc_RF = 0\n",
    "f1_GB = 0\n",
    "acc_GB = 0\n",
    "results_classification.loc[10] = ['RandomForestClassifier', 'task16', f1_RF, acc_RF]\n",
    "results_classification.loc[11] = ['GradientBoostingClassifier', 'task16', f1_GB, acc_GB]"
   ]
  },
  {
   "cell_type": "markdown",
   "metadata": {},
   "source": [
    "17. Подберите наилучшую модель, подбирая методы обработки колонок - масштабирование признаков, кодирование признаков и заполнение пропусков. Параметры алгоритмов оставьте по умолчанию. Выведите итоговые параметры и результат accuracy и f1_score."
   ]
  },
  {
   "cell_type": "code",
   "execution_count": null,
   "metadata": {},
   "outputs": [],
   "source": [
    "\n",
    "\n",
    "### Ваш код ###\n",
    "\n",
    "best_params = {}\n",
    "print('Параметры лучшей модели:\\n', best_params)\n",
    "f1_best = 0\n",
    "acc_best = 0\n",
    "results_classification.loc[12] = ['Best_Model', 'task17', f1_best, acc_best]"
   ]
  },
  {
   "cell_type": "code",
   "execution_count": null,
   "metadata": {},
   "outputs": [],
   "source": []
  },
  {
   "cell_type": "code",
   "execution_count": null,
   "metadata": {},
   "outputs": [],
   "source": [
    "results_classification"
   ]
  },
  {
   "cell_type": "code",
   "execution_count": null,
   "metadata": {},
   "outputs": [],
   "source": []
  },
  {
   "cell_type": "code",
   "execution_count": null,
   "metadata": {},
   "outputs": [],
   "source": []
  },
  {
   "cell_type": "code",
   "execution_count": null,
   "metadata": {},
   "outputs": [],
   "source": []
  }
 ],
 "metadata": {
  "kernelspec": {
   "display_name": "Python 3",
   "language": "python",
   "name": "python3"
  },
  "language_info": {
   "codemirror_mode": {
    "name": "ipython",
    "version": 3
   },
   "file_extension": ".py",
   "mimetype": "text/x-python",
   "name": "python",
   "nbconvert_exporter": "python",
   "pygments_lexer": "ipython3",
   "version": "3.11.5"
  }
 },
 "nbformat": 4,
 "nbformat_minor": 2
}
