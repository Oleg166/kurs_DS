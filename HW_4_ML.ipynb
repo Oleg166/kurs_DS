{
 "cells": [
  {
   "cell_type": "code",
   "execution_count": 1,
   "metadata": {},
   "outputs": [],
   "source": [
    "import pandas as pd\n",
    "import numpy as np\n",
    "from tqdm.auto import tqdm\n",
    "import time\n",
    "from sklearn.model_selection import train_test_split\n",
    "from sklearn.tree import DecisionTreeClassifier\n",
    "from sklearn.model_selection import cross_val_score\n",
    "from sklearn.ensemble import BaggingClassifier\n",
    "from sklearn.ensemble import RandomForestClassifier\n",
    "from sklearn.metrics import accuracy_score\n",
    "from sklearn.ensemble import GradientBoostingClassifier\n",
    "from xgboost import XGBClassifier\n",
    "from sklearn.preprocessing import LabelEncoder\n",
    "import matplotlib.pyplot as plt\n",
    "from pylab import rcParams"
   ]
  },
  {
   "cell_type": "code",
   "execution_count": 2,
   "metadata": {},
   "outputs": [],
   "source": [
    "RANDOM_STATE = 42\n",
    "results = pd.DataFrame(columns = ['model', 'task', 'accuracy'])"
   ]
  },
  {
   "cell_type": "markdown",
   "metadata": {},
   "source": [
    "https://archive.ics.uci.edu/ml/datasets/wine+quality"
   ]
  },
  {
   "cell_type": "code",
   "execution_count": 3,
   "metadata": {},
   "outputs": [
    {
     "data": {
      "text/html": [
       "<div>\n",
       "<style scoped>\n",
       "    .dataframe tbody tr th:only-of-type {\n",
       "        vertical-align: middle;\n",
       "    }\n",
       "\n",
       "    .dataframe tbody tr th {\n",
       "        vertical-align: top;\n",
       "    }\n",
       "\n",
       "    .dataframe thead th {\n",
       "        text-align: right;\n",
       "    }\n",
       "</style>\n",
       "<table border=\"1\" class=\"dataframe\">\n",
       "  <thead>\n",
       "    <tr style=\"text-align: right;\">\n",
       "      <th></th>\n",
       "      <th>fixed acidity</th>\n",
       "      <th>volatile acidity</th>\n",
       "      <th>citric acid</th>\n",
       "      <th>residual sugar</th>\n",
       "      <th>chlorides</th>\n",
       "      <th>free sulfur dioxide</th>\n",
       "      <th>total sulfur dioxide</th>\n",
       "      <th>density</th>\n",
       "      <th>pH</th>\n",
       "      <th>sulphates</th>\n",
       "      <th>alcohol</th>\n",
       "      <th>quality</th>\n",
       "    </tr>\n",
       "  </thead>\n",
       "  <tbody>\n",
       "    <tr>\n",
       "      <th>0</th>\n",
       "      <td>7.4</td>\n",
       "      <td>0.70</td>\n",
       "      <td>0.00</td>\n",
       "      <td>1.9</td>\n",
       "      <td>0.076</td>\n",
       "      <td>11.0</td>\n",
       "      <td>34.0</td>\n",
       "      <td>0.9978</td>\n",
       "      <td>3.51</td>\n",
       "      <td>0.56</td>\n",
       "      <td>9.4</td>\n",
       "      <td>5</td>\n",
       "    </tr>\n",
       "    <tr>\n",
       "      <th>1</th>\n",
       "      <td>7.8</td>\n",
       "      <td>0.88</td>\n",
       "      <td>0.00</td>\n",
       "      <td>2.6</td>\n",
       "      <td>0.098</td>\n",
       "      <td>25.0</td>\n",
       "      <td>67.0</td>\n",
       "      <td>0.9968</td>\n",
       "      <td>3.20</td>\n",
       "      <td>0.68</td>\n",
       "      <td>9.8</td>\n",
       "      <td>5</td>\n",
       "    </tr>\n",
       "    <tr>\n",
       "      <th>2</th>\n",
       "      <td>7.8</td>\n",
       "      <td>0.76</td>\n",
       "      <td>0.04</td>\n",
       "      <td>2.3</td>\n",
       "      <td>0.092</td>\n",
       "      <td>15.0</td>\n",
       "      <td>54.0</td>\n",
       "      <td>0.9970</td>\n",
       "      <td>3.26</td>\n",
       "      <td>0.65</td>\n",
       "      <td>9.8</td>\n",
       "      <td>5</td>\n",
       "    </tr>\n",
       "    <tr>\n",
       "      <th>3</th>\n",
       "      <td>11.2</td>\n",
       "      <td>0.28</td>\n",
       "      <td>0.56</td>\n",
       "      <td>1.9</td>\n",
       "      <td>0.075</td>\n",
       "      <td>17.0</td>\n",
       "      <td>60.0</td>\n",
       "      <td>0.9980</td>\n",
       "      <td>3.16</td>\n",
       "      <td>0.58</td>\n",
       "      <td>9.8</td>\n",
       "      <td>6</td>\n",
       "    </tr>\n",
       "    <tr>\n",
       "      <th>4</th>\n",
       "      <td>7.4</td>\n",
       "      <td>0.70</td>\n",
       "      <td>0.00</td>\n",
       "      <td>1.9</td>\n",
       "      <td>0.076</td>\n",
       "      <td>11.0</td>\n",
       "      <td>34.0</td>\n",
       "      <td>0.9978</td>\n",
       "      <td>3.51</td>\n",
       "      <td>0.56</td>\n",
       "      <td>9.4</td>\n",
       "      <td>5</td>\n",
       "    </tr>\n",
       "  </tbody>\n",
       "</table>\n",
       "</div>"
      ],
      "text/plain": [
       "   fixed acidity  volatile acidity  citric acid  residual sugar  chlorides  \\\n",
       "0            7.4              0.70         0.00             1.9      0.076   \n",
       "1            7.8              0.88         0.00             2.6      0.098   \n",
       "2            7.8              0.76         0.04             2.3      0.092   \n",
       "3           11.2              0.28         0.56             1.9      0.075   \n",
       "4            7.4              0.70         0.00             1.9      0.076   \n",
       "\n",
       "   free sulfur dioxide  total sulfur dioxide  density    pH  sulphates  \\\n",
       "0                 11.0                  34.0   0.9978  3.51       0.56   \n",
       "1                 25.0                  67.0   0.9968  3.20       0.68   \n",
       "2                 15.0                  54.0   0.9970  3.26       0.65   \n",
       "3                 17.0                  60.0   0.9980  3.16       0.58   \n",
       "4                 11.0                  34.0   0.9978  3.51       0.56   \n",
       "\n",
       "   alcohol  quality  \n",
       "0      9.4        5  \n",
       "1      9.8        5  \n",
       "2      9.8        5  \n",
       "3      9.8        6  \n",
       "4      9.4        5  "
      ]
     },
     "execution_count": 3,
     "metadata": {},
     "output_type": "execute_result"
    }
   ],
   "source": [
    "data = pd.read_csv('winequality-red.csv', sep = ';')\n",
    "data.head()"
   ]
  },
  {
   "cell_type": "code",
   "execution_count": null,
   "metadata": {},
   "outputs": [],
   "source": []
  },
  {
   "cell_type": "markdown",
   "metadata": {},
   "source": [
    "1.Разделите выборку на обучающую и тестовую в отношении 70%/30%, предварительно выделив целевую переменную (колонка 'quality')."
   ]
  },
  {
   "cell_type": "code",
   "execution_count": 4,
   "metadata": {},
   "outputs": [],
   "source": [
    "data_features = data.drop('quality',axis=1)\n",
    "data_target = data['quality']\n",
    "\n",
    "x_train, x_test, y_train, y_test = train_test_split(data_features, data_target, test_size=0.3, random_state=RANDOM_STATE)"
   ]
  },
  {
   "cell_type": "markdown",
   "metadata": {},
   "source": [
    "2.Оцените качество на тестовой выборке по метрике accuracy для классификаторов:\n",
    "\n",
    "DecisionTreeClassifier\n",
    "\n",
    "BaggingClassifier со 100 деревьями\n",
    "\n",
    "RandomForestClassifier со 100 деревьями\n",
    "\n",
    "Сравните результаты и напишите какой вывод можно сделать."
   ]
  },
  {
   "cell_type": "code",
   "execution_count": 5,
   "metadata": {},
   "outputs": [
    {
     "name": "stdout",
     "output_type": "stream",
     "text": [
      "acc_DT: 0.59\n",
      "acc_Bagging: 0.67\n",
      "acc_RF: 0.68\n"
     ]
    }
   ],
   "source": [
    "# DecisionTreeClassifier\n",
    "\n",
    "tree_classifier = DecisionTreeClassifier(random_state=RANDOM_STATE)\n",
    "tree_classifier.fit(x_train, y_train)\n",
    "tree_y_pred = tree_classifier.predict(x_test)\n",
    "\n",
    "acc_tree =cross_val_score(tree_classifier, x_train, y_train, cv=5, scoring='accuracy')\n",
    "acc_DT = acc_tree.mean()\n",
    "print('acc_DT:' ,round(acc_DT, 2))\n",
    "\n",
    "# BaggingClassifier\n",
    "\n",
    "bag_classifier = BaggingClassifier(n_estimators=100, random_state=RANDOM_STATE)\n",
    "bag_classifier.fit(x_train, y_train)\n",
    "bag_y_pred = bag_classifier.predict(x_test)\n",
    "\n",
    "acc_bag =cross_val_score(bag_classifier, x_train, y_train, cv=5, scoring='accuracy')\n",
    "acc_Bagging = acc_bag.mean()\n",
    "print('acc_Bagging:' ,round(acc_Bagging, 2))\n",
    "\n",
    "# RandomForestClassifier\n",
    "\n",
    "Random_f = RandomForestClassifier(n_estimators=100, random_state=RANDOM_STATE)\n",
    "Random_f.fit(x_train, y_train)\n",
    "rf_y_pred = Random_f.predict(x_test)\n",
    "\n",
    "acc_rf_1 =cross_val_score(Random_f, x_train, y_train, cv=5, scoring='accuracy')\n",
    "acc_RF = acc_rf_1.mean()\n",
    "print('acc_RF:' ,round(acc_RF, 2))\n",
    "\n",
    "# acc_DT = 0\n",
    "# acc_Bagging = 0\n",
    "# acc_RF = 0\n",
    "results.loc[0] = ['DecisionTreeClassifier', 'task2', acc_DT]\n",
    "results.loc[1] = ['BaggingClassifier ', 'task2', acc_Bagging]\n",
    "results.loc[2] = ['RandomForestClassifier', 'task2', acc_RF]"
   ]
  },
  {
   "cell_type": "markdown",
   "metadata": {},
   "source": [
    "- Лушие результаты показывают классификаторы, которые можно настраивать - BaggingClassifier и RandomForestClassifier\n",
    "- Самым лучшим классификатором является RandomForestClassifier с 100 деревьями."
   ]
  },
  {
   "cell_type": "markdown",
   "metadata": {},
   "source": [
    "3.Посчитайте качество на тестовой выборке по метрике accuracy для классификатора RandomForestClassifier, используя значения деревьев:\n",
    "    \n",
    "10, 50, 100, 200, далее с шагом 200 до 5000 деревьев.\n",
    "Постройте график зависимости качества от числа деревьев.\n",
    "\n"
   ]
  },
  {
   "cell_type": "code",
   "execution_count": 6,
   "metadata": {},
   "outputs": [
    {
     "data": {
      "application/vnd.jupyter.widget-view+json": {
       "model_id": "500c9e60a2e84e58817083b1244b12bb",
       "version_major": 2,
       "version_minor": 0
      },
      "text/plain": [
       "  0%|          | 0/29 [00:00<?, ?it/s]"
      ]
     },
     "metadata": {},
     "output_type": "display_data"
    },
    {
     "name": "stdout",
     "output_type": "stream",
     "text": [
      "CPU times: total: 12min 40s\n",
      "Wall time: 13min 32s\n"
     ]
    }
   ],
   "source": [
    "%%time\n",
    "list1 = [10, 50, 100]\n",
    "list2 = [x for x in range(200, 5400, 200)]\n",
    "list_forest = list1 + list2\n",
    "\n",
    "list_scores =[]\n",
    "for i in tqdm(list_forest):\n",
    "    rfc = RandomForestClassifier(n_estimators=i)\n",
    "    rfc.fit(x_train, y_train)\n",
    "    y_pred = rfc.predict(x_test)\n",
    "    list_scores.append(accuracy_score(y_test, y_pred))"
   ]
  },
  {
   "cell_type": "code",
   "execution_count": 7,
   "metadata": {},
   "outputs": [
    {
     "data": {
      "image/png": "[encoded data removed]",
      "text/plain": [
       "<Figure size 1200x500 with 1 Axes>"
      ]
     },
     "metadata": {},
     "output_type": "display_data"
    }
   ],
   "source": [
    "rcParams['figure.figsize'] = 12,5\n",
    "plt.plot(list_forest, list_scores)\n",
    "plt.xlabel('Количество деревьев')\n",
    "plt.ylabel('Accuracy')\n",
    "plt.show()"
   ]
  },
  {
   "cell_type": "markdown",
   "metadata": {},
   "source": [
    "4.Обучите реализации градиентного бустинга с параметрами по умолчанию из библиотек sklearn и xgboost. Сравните значение метрики accuracy по cross_val_score"
   ]
  },
  {
   "cell_type": "code",
   "execution_count": 8,
   "metadata": {},
   "outputs": [
    {
     "name": "stdout",
     "output_type": "stream",
     "text": [
      "acc_sklearn: 0.64\n",
      "acc_xgboost: 0.65\n"
     ]
    }
   ],
   "source": [
    "# GradientBoostingClassifier / sklearn\n",
    "\n",
    "GBC = GradientBoostingClassifier(random_state=RANDOM_STATE).fit(x_train, y_train)\n",
    "y_pred_gbc = GBC.predict(x_test)\n",
    "\n",
    "acc_GBC = cross_val_score(GBC, x_train, y_train, cv=5, scoring='accuracy')\n",
    "acc_sklearn = acc_GBC.mean()\n",
    "print('acc_sklearn:' ,round(acc_sklearn, 2))\n",
    "\n",
    "# xgboost\n",
    "le = LabelEncoder()\n",
    "y_train = le.fit_transform(y_train)\n",
    "\n",
    "XGB_model = XGBClassifier(random_state=RANDOM_STATE).fit(x_train, y_train)\n",
    "y_pred_xgb = XGB_model.predict(x_test)\n",
    "\n",
    "acc_XGB = cross_val_score(XGB_model, x_train, y_train, cv=5, scoring='accuracy')\n",
    "acc_xgboost = acc_XGB.mean()\n",
    "print('acc_xgboost:' ,round(acc_xgboost, 2))\n",
    "\n",
    "#acc_sklearn = 0\n",
    "#acc_xgboost = 0\n",
    "results.loc[3] = ['GradientBoostingClassifier', 'task4', acc_sklearn]\n",
    "results.loc[4] = ['XGBClassifier', 'task4', acc_xgboost]"
   ]
  },
  {
   "cell_type": "markdown",
   "metadata": {},
   "source": [
    "Вывод: результаты схожи, различаются незначительно"
   ]
  },
  {
   "cell_type": "markdown",
   "metadata": {},
   "source": [
    "5.Подберите оптимальные параметры этих алгоритмов с помощью GridSearchCV(cv=3).\n",
    "Параметры для оптимизации:\n",
    "\n",
    "скорость обучения\n",
    "\n",
    "количество деревьев\n",
    "\n",
    "глубина деревьев\n",
    "\n",
    "Сравните значение метрики accuracy. Выведите лучшие параметры алгоритмов."
   ]
  },
  {
   "cell_type": "code",
   "execution_count": null,
   "metadata": {},
   "outputs": [],
   "source": [
    "\n",
    "\n",
    "### Ваш код ###\n",
    "\n",
    "best_params_sklearn = {}\n",
    "print('Параметры лучшей модели sklearn:\\n', best_params_sklearn)\n",
    "best_params_xgboost = {}\n",
    "print('Параметры лучшей модели xgboost:\\n', best_params_xgboost)\n",
    "acc_sklearn_cv = 0\n",
    "acc_xgboost_cv = 0\n",
    "results.loc[5] = ['GradientBoostingClassifier_CV', 'task5', acc_sklearn_cv]\n",
    "results.loc[6] = ['XGBClassifier_CV', 'task5', acc_xgboost_cv]"
   ]
  },
  {
   "cell_type": "markdown",
   "metadata": {},
   "source": [
    "6.Обучите реализации градиентного бустинга с параметрами по умолчанию из библиотек lightgbm и catboost. Сравните значение метрики accuracy по cross_val_score по всем четырем реализациям."
   ]
  },
  {
   "cell_type": "code",
   "execution_count": null,
   "metadata": {},
   "outputs": [],
   "source": [
    "\n",
    "\n",
    "### Ваш код ###\n",
    "\n",
    "acc_lightgbm = 0\n",
    "acc_catboost = 0\n",
    "results.loc[7] = ['LGBMClassifier', 'task6', acc_lightgbm]\n",
    "results.loc[8] = ['CatBoostClassifier', 'task6', acc_catboost]"
   ]
  },
  {
   "cell_type": "markdown",
   "metadata": {},
   "source": [
    "7.Подберите оптимальные параметры для алгоритмов градиентного бустинга из библиотек lightgbm и catboost с теми же условиями.\n",
    "Сравните значение метрики accuracy. Выведите лучшие параметры алгоритмов."
   ]
  },
  {
   "cell_type": "code",
   "execution_count": null,
   "metadata": {},
   "outputs": [],
   "source": [
    "\n",
    "\n",
    "### Ваш код ###\n",
    "\n",
    "best_params_lightgbm = {}\n",
    "print('Параметры лучшей модели lightgbm:\\n', best_params_lightgbm)\n",
    "best_params_catboost = {}\n",
    "print('Параметры лучшей модели catboost:\\n', best_params_catboost)\n",
    "acc_lightgbm_cv = 0\n",
    "acc_catboost_cv = 0\n",
    "results.loc[9] = ['LGBMClassifier_CV', 'task7', acc_lightgbm_cv]\n",
    "results.loc[10] = ['CatBoostClassifier_CV', 'task7', acc_catboost_cv]"
   ]
  },
  {
   "cell_type": "markdown",
   "metadata": {},
   "source": [
    "8.Подберите оптимальные параметры алгоритма из библиотеки xgbost с помощью [optuna](https://github.com/optuna/optuna) . Параметры для оптимизации:\n",
    "\n",
    "скорость обучения\n",
    "\n",
    "количество деревьев\n",
    "\n",
    "глубина деревьев\n",
    "\n",
    "Сравните результат с поиском по сетке из sklearn. Выведите лучшие параметры алгоритма, найденные даным способом."
   ]
  },
  {
   "cell_type": "code",
   "execution_count": null,
   "metadata": {},
   "outputs": [],
   "source": [
    "\n",
    "\n",
    "### Ваш код ###\n",
    "\n",
    "best_params_xgboost_optuna = {}\n",
    "print('Параметры лучшей модели xgboost:\\n', best_params_xgboost_optuna)\n",
    "acc_xgboost_optuna = 0\n",
    "results.loc[11] = ['XGBClassifier_optuna', 'task8', acc_xgboost_optuna]"
   ]
  },
  {
   "cell_type": "markdown",
   "metadata": {},
   "source": [
    "9.Выведите качество по метрике accuracy стэкинга (StackingClassifier) 4-х алгоритмов с базовыми параметрами градиентного бустинга."
   ]
  },
  {
   "cell_type": "code",
   "execution_count": null,
   "metadata": {},
   "outputs": [],
   "source": [
    "\n",
    "\n",
    "### Ваш код ###\n",
    "\n",
    "acc_stacking_default = 0\n",
    "results.loc[12] = ['Stacking default', 'task9', acc_stacking_default]"
   ]
  },
  {
   "cell_type": "markdown",
   "metadata": {},
   "source": [
    "10.Выведите качество по метрике accuracy стэкинга 4-х алгоритмов с оптимальными параметрами градиентного бустинга. Сравните результаты с предыдущим шагом и напишите какой вывод можно из этого сделать."
   ]
  },
  {
   "cell_type": "code",
   "execution_count": null,
   "metadata": {},
   "outputs": [],
   "source": [
    "\n",
    "\n",
    "### Ваш код ###\n",
    "\n",
    "acc_stacking = 0\n",
    "results.loc[13] = ['Stacking', 'task10', acc_stacking]"
   ]
  },
  {
   "cell_type": "code",
   "execution_count": null,
   "metadata": {},
   "outputs": [],
   "source": []
  },
  {
   "cell_type": "code",
   "execution_count": null,
   "metadata": {},
   "outputs": [],
   "source": [
    "results"
   ]
  },
  {
   "cell_type": "code",
   "execution_count": null,
   "metadata": {},
   "outputs": [],
   "source": []
  }
 ],
 "metadata": {
  "kernelspec": {
   "display_name": "Python 3",
   "language": "python",
   "name": "python3"
  },
  "language_info": {
   "codemirror_mode": {
    "name": "ipython",
    "version": 3
   },
   "file_extension": ".py",
   "mimetype": "text/x-python",
   "name": "python",
   "nbconvert_exporter": "python",
   "pygments_lexer": "ipython3",
   "version": "3.11.5"
  }
 },
 "nbformat": 4,
 "nbformat_minor": 2
}
